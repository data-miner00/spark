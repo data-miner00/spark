{
  "cells": [
    {
      "cell_type": "markdown",
      "metadata": {
        "application/vnd.databricks.v1+cell": {
          "cellMetadata": {},
          "inputWidgets": {},
          "nuid": "2a5db5cf-cf4c-4b01-9f63-16c470c9e4e3",
          "showTitle": false,
          "title": ""
        }
      },
      "source": [
        "# Managing Models\n",
        "\n",
        "There are two methods to manage models with Azure Databricks:  using the user interface or programmatically.  In the next two exercises, you will look at each technique.\n",
        "\n",
        "## Start Your Cluster\n",
        "To get started, first attach a Databricks cluster to this notebook.  If you have not created a cluster yet, use the **Clusters** menu on the left-hand sidebar to create a new Databricks cluster.  Then, return to this notebook and attach the newly-created cluster to this notebook.\n",
        "\n",
        "## Managing a Model via the User Interface\n",
        "\n",
        "In this exercise, you will once more train a model based on the `nyc-taxi` dataset.  From there, you will register the model using the Databricks user interface.  \n",
        "\n",
        "The first step is to load the libraries you will use and featurize the NYC Taxi & Limousine Commission - green taxi trip records dataset.  Because you have reviewed this code in the prior notebook, explanations here will be brief until you have run the trained model."
      ]
    },
    {
      "cell_type": "code",
      "execution_count": 0,
      "metadata": {
        "application/vnd.databricks.v1+cell": {
          "cellMetadata": {},
          "inputWidgets": {},
          "nuid": "b33e71eb-ac15-479e-bc11-8c9c713a572f",
          "showTitle": false,
          "title": ""
        }
      },
      "outputs": [],
      "source": [
        "import urllib.request\n",
        "import os\n",
        "import warnings\n",
        "import sys\n",
        "import numpy as np\n",
        "from pyspark.sql.types import * \n",
        "from pyspark.sql.functions import col, lit\n",
        "from pyspark.sql.functions import udf\n",
        "import matplotlib\n",
        "import matplotlib.pyplot as plt\n",
        "import mlflow\n",
        "import mlflow.spark\n",
        "from pyspark.ml.feature import Imputer\n",
        "from pyspark.ml.feature import VectorAssembler\n",
        "from pyspark.ml.feature import MinMaxScaler\n",
        "from pyspark.ml.feature import StringIndexer\n",
        "from pyspark.ml.feature import OneHotEncoder\n",
        "from pyspark.ml import Pipeline\n",
        "\n",
        "dataset = spark.sql(\"select * from nyc_taxi\")\n",
        "\n",
        "def get_sin_cosine(value, max_value):\n",
        "  sine =  np.sin(value * (2.*np.pi/max_value))\n",
        "  cosine = np.cos(value * (2.*np.pi/max_value))\n",
        "  return (sine.tolist(), cosine.tolist())\n",
        "\n",
        "schema = StructType([\n",
        "    StructField(\"sine\", DoubleType(), False),\n",
        "    StructField(\"cosine\", DoubleType(), False)\n",
        "])\n",
        "\n",
        "get_sin_cosineUDF = udf(get_sin_cosine, schema)\n",
        "\n",
        "dataset = dataset.withColumn(\"udfResult\", get_sin_cosineUDF(col(\"hour_of_day\"), lit(24))).withColumn(\"hour_sine\", col(\"udfResult.sine\")).withColumn(\"hour_cosine\", col(\"udfResult.cosine\")).drop(\"udfResult\").drop(\"hour_of_day\")\n",
        "\n",
        "dataset = dataset.filter(dataset.totalAmount.isNotNull())\n",
        "\n",
        "dataset = dataset.withColumn(\"isPaidTimeOff\", col(\"isPaidTimeOff\").cast(\"integer\"))\n",
        "\n",
        "numerical_cols = [\"passengerCount\", \"tripDistance\", \"snowDepth\", \"precipTime\", \"precipDepth\", \"temperature\", \"hour_sine\", \"hour_cosine\"]\n",
        "categorical_cols = [\"day_of_week\", \"month_num\", \"normalizeHolidayName\", \"isPaidTimeOff\"]\n",
        "label_column = \"totalAmount\"\n",
        "\n",
        "stages = []\n",
        "\n",
        "inputCols = [\"passengerCount\"]\n",
        "outputCols = [\"passengerCount\"]\n",
        "imputer = Imputer(strategy=\"median\", inputCols=inputCols, outputCols=outputCols)\n",
        "stages += [imputer]\n",
        "\n",
        "assembler = VectorAssembler().setInputCols(numerical_cols).setOutputCol('numerical_features')\n",
        "scaler = MinMaxScaler(inputCol=assembler.getOutputCol(), outputCol=\"scaled_numerical_features\")\n",
        "stages += [assembler, scaler]\n",
        "\n",
        "for categorical_col in categorical_cols:\n",
        "    # Category Indexing with StringIndexer\n",
        "    stringIndexer = StringIndexer(inputCol=categorical_col, outputCol=categorical_col + \"_index\", handleInvalid=\"skip\")\n",
        "    encoder = OneHotEncoder(inputCols=[stringIndexer.getOutputCol()], outputCols=[categorical_col + \"_classVector\"])\n",
        "    # Add stages.  These are not run here, but will run all at once later on.\n",
        "    stages += [stringIndexer, encoder]\n",
        "    \n",
        "assemblerInputs = [c + \"_classVector\" for c in categorical_cols] + [\"scaled_numerical_features\"]\n",
        "assembler = VectorAssembler(inputCols=assemblerInputs, outputCol=\"features\")\n",
        "stages += [assembler]\n",
        "\n",
        "partialPipeline = Pipeline().setStages(stages)\n",
        "pipelineModel = partialPipeline.fit(dataset)\n",
        "preppedDataDF = pipelineModel.transform(dataset)\n",
        "\n",
        "(trainingData, testData) = preppedDataDF.randomSplit([0.7, 0.3], seed=97)\n",
        "\n",
        "print('Data preparation work completed.')"
      ]
    },
    {
      "cell_type": "markdown",
      "metadata": {
        "application/vnd.databricks.v1+cell": {
          "cellMetadata": {},
          "inputWidgets": {},
          "nuid": "7f0b08ba-ca38-4ade-8c12-ee286091af6d",
          "showTitle": false,
          "title": ""
        }
      },
      "source": [
        "With this data in place, create a function to plot the quality of the regression model based on predicted amounts versus actual amounts."
      ]
    },
    {
      "cell_type": "code",
      "execution_count": 0,
      "metadata": {
        "application/vnd.databricks.v1+cell": {
          "cellMetadata": {},
          "inputWidgets": {},
          "nuid": "63eff6e0-d018-4676-a0d4-d07fcec902bf",
          "showTitle": false,
          "title": ""
        }
      },
      "outputs": [],
      "source": [
        "def plot_regression_quality(predictions):\n",
        "  p_df = predictions.select([\"totalAmount\",  \"prediction\"]).toPandas()\n",
        "  true_value = p_df.totalAmount\n",
        "  predicted_value = p_df.prediction\n",
        "\n",
        "  fig = plt.figure(figsize=(10,10))\n",
        "  plt.scatter(true_value, predicted_value, c='crimson')\n",
        "  plt.yscale('log')\n",
        "  plt.xscale('log')\n",
        "\n",
        "  p1 = max(max(predicted_value), max(true_value))\n",
        "  p2 = min(min(predicted_value), min(true_value))\n",
        "  plt.plot([p1, p2], [p1, p2], 'b-')\n",
        "  plt.xlabel('True Values', fontsize=15)\n",
        "  plt.ylabel('Predictions', fontsize=15)\n",
        "  plt.axis('equal')\n",
        "  \n",
        "  global image\n",
        "\n",
        "  image = fig\n",
        "  fig.savefig(\"LinearRegressionPrediction.png\")\n",
        "  plt.close(fig)\n",
        "  return image\n",
        "\n",
        "print('Created regression quality plot function')"
      ]
    },
    {
      "cell_type": "markdown",
      "metadata": {
        "application/vnd.databricks.v1+cell": {
          "cellMetadata": {},
          "inputWidgets": {},
          "nuid": "77af5623-f628-4709-b77f-9f260943b632",
          "showTitle": false,
          "title": ""
        }
      },
      "source": [
        "The following method trains the regression model and uses MLflow Tracking to record parameters, metrics, model, and a plot which compares actual versus predicted amounts spent on taxi rides.  This is essentially the same model as what you used in the prior lesson, although there is a minor change in lines 40-43, which you will take advantage of in the next exercise."
      ]
    },
    {
      "cell_type": "code",
      "execution_count": 0,
      "metadata": {
        "application/vnd.databricks.v1+cell": {
          "cellMetadata": {},
          "inputWidgets": {},
          "nuid": "83c46710-4047-42a9-b0b6-b655911c671e",
          "showTitle": false,
          "title": ""
        }
      },
      "outputs": [],
      "source": [
        "from pyspark.ml.regression import LinearRegression\n",
        "from pyspark.ml.evaluation import RegressionEvaluator\n",
        "\n",
        "def train_nyc_taxi(train_data, test_data, label_column, features_column, elastic_net_param, reg_param, max_iter, model_name=None):\n",
        "  # Evaluate metrics\n",
        "  def eval_metrics(predictions):\n",
        "      evaluator = RegressionEvaluator(\n",
        "          labelCol=label_column, predictionCol=\"prediction\", metricName=\"rmse\")\n",
        "      rmse = evaluator.evaluate(predictions)\n",
        "      evaluator = RegressionEvaluator(\n",
        "          labelCol=label_column, predictionCol=\"prediction\", metricName=\"mae\")\n",
        "      mae = evaluator.evaluate(predictions)\n",
        "      evaluator = RegressionEvaluator(\n",
        "          labelCol=label_column, predictionCol=\"prediction\", metricName=\"r2\")\n",
        "      r2 = evaluator.evaluate(predictions)\n",
        "      return rmse, mae, r2\n",
        "\n",
        "  # Start an MLflow run; the \"with\" keyword ensures we'll close the run even if this cell crashes\n",
        "  with mlflow.start_run():\n",
        "    lr = LinearRegression(featuresCol=\"features\", labelCol=label_column, elasticNetParam=elastic_net_param, regParam=reg_param, maxIter=max_iter)\n",
        "    lrModel = lr.fit(train_data)\n",
        "    predictions = lrModel.transform(test_data)\n",
        "    (rmse, mae, r2) = eval_metrics(predictions)\n",
        "\n",
        "    # Print out model metrics\n",
        "    print(\"Linear regression model (elasticNetParam=%f, regParam=%f, maxIter=%f):\" % (elastic_net_param, reg_param, max_iter))\n",
        "    print(\"  RMSE: %s\" % rmse)\n",
        "    print(\"  MAE: %s\" % mae)\n",
        "    print(\"  R2: %s\" % r2)\n",
        "\n",
        "    # Log hyperparameters for mlflow UI\n",
        "    mlflow.log_param(\"elastic_net_param\", elastic_net_param)\n",
        "    mlflow.log_param(\"reg_param\", reg_param)\n",
        "    mlflow.log_param(\"max_iter\", max_iter)\n",
        "    # Log evaluation metrics\n",
        "    mlflow.log_metric(\"rmse\", rmse)\n",
        "    mlflow.log_metric(\"r2\", r2)\n",
        "    mlflow.log_metric(\"mae\", mae)\n",
        "    # Log the model itself\n",
        "    if model_name is None:\n",
        "      mlflow.spark.log_model(lrModel, \"model\")\n",
        "    else:\n",
        "      mlflow.spark.log_model(lrModel, artifact_path=\"model\", registered_model_name=model_name)\n",
        "    modelpath = \"/dbfs/mlflow/taxi_total_amount_2/model-%f-%f-%f\" % (elastic_net_param, reg_param, max_iter)\n",
        "    mlflow.spark.save_model(lrModel, modelpath)\n",
        "    \n",
        "    # Generate a plot\n",
        "    image = plot_regression_quality(predictions)\n",
        "    \n",
        "    # Log artifacts (in this case, the regression quality image)\n",
        "    mlflow.log_artifact(\"LinearRegressionPrediction.png\")\n",
        "    \n",
        "print('Created training and evaluation method')"
      ]
    },
    {
      "cell_type": "markdown",
      "metadata": {
        "application/vnd.databricks.v1+cell": {
          "cellMetadata": {},
          "inputWidgets": {},
          "nuid": "ab7c648e-4e2c-4780-b347-5f7cf7bd98c9",
          "showTitle": false,
          "title": ""
        }
      },
      "source": [
        "Remove any prior executions of this script.  Note that the folder is now `dbfs:/mlflow/taxi_total_amount_2` instead of `taxi_total_amount`.  This way, you will not overwrite executions from the prior lab."
      ]
    },
    {
      "cell_type": "code",
      "execution_count": 0,
      "metadata": {
        "application/vnd.databricks.v1+cell": {
          "cellMetadata": {},
          "inputWidgets": {},
          "nuid": "d80d1a8a-399f-4412-b4d8-fc61ea0b3e7c",
          "showTitle": false,
          "title": ""
        }
      },
      "outputs": [],
      "source": [
        "%fs rm -r dbfs:/mlflow/taxi_total_amount_2"
      ]
    },
    {
      "cell_type": "markdown",
      "metadata": {
        "application/vnd.databricks.v1+cell": {
          "cellMetadata": {},
          "inputWidgets": {},
          "nuid": "24114ef9-620c-49ef-b774-b3414fe2fe18",
          "showTitle": false,
          "title": ""
        }
      },
      "source": [
        "Train the model with what were the most successful hyperparameters in the prior lab."
      ]
    },
    {
      "cell_type": "code",
      "execution_count": 0,
      "metadata": {
        "application/vnd.databricks.v1+cell": {
          "cellMetadata": {},
          "inputWidgets": {},
          "nuid": "8c802195-9a9a-4029-8c9e-304192f8e567",
          "showTitle": false,
          "title": ""
        }
      },
      "outputs": [],
      "source": [
        "# L1 penalty, regularization parameter 0.3, 50 iterations\n",
        "train_nyc_taxi(trainingData, testData, label_column, \"features\", 1.0, 0.3, 50)"
      ]
    },
    {
      "cell_type": "markdown",
      "metadata": {
        "application/vnd.databricks.v1+cell": {
          "cellMetadata": {},
          "inputWidgets": {},
          "nuid": "230a42c3-7de1-4609-8bb7-c6572f48070c",
          "showTitle": false,
          "title": ""
        }
      },
      "source": [
        "### Registering the Model\n",
        "\n",
        "Select the **Experiment** option in the notebook context bar to display the Experiment sidebar.  In this sidebar, select the `spark` Link for your experiment run.  This will open the experiment run's details in a new browser tab and navigate to the model itself.\n",
        "\n",
        "On the model page, select **Register Model** to register a new model.  In the **Model** drop-down list, select **+ Create New Model** and enter the name **NYC Taxi Amount UI**.  Then, select **Register**.  Registration may take a couple of minutes to complete.  You may need to refresh the tab to change the model registration status changes from **Registration pending...** to its **Registered** status.\n",
        "\n",
        "### Serving the Model\n",
        "\n",
        "From here, navigate to the **Models** page using the menu on the left-hand side.  You will see the `NYC Taxi Amount UI` model.  Select the model link to view details about the model.  Note that you can add tags the model or view different versions of a model.  To activate the model, select the **Serving** tab and then select **Enable Serving**.  This will set up a single-node cluster intended for generating predictions.  This process may take several minutes, so be patient.  You may need to refresh your browser occasionally to see updates.\n",
        "\n",
        "After the registration status changes to **Ready** from **Pending**, you can generate a prediction through your browser.  One way to test this is to select the **Browser** button in the **Call The Model** section and enter a JSON array into the **Request** field.  This particular model, however, is fairly complex, so it's actually easier to call it from code.  We will do that in the next exercise.\n",
        "\n",
        "### Deleting the Model\n",
        "\n",
        "Once you are done testing the model, select the drop-down symbol next to **Registered Models > NYC Taxi Amount UI** in the header section and then choose **Delete**.  Confirm that you wish to delete the model.  It will stop serving the current model and delete the model from the registry."
      ]
    },
    {
      "cell_type": "markdown",
      "metadata": {
        "application/vnd.databricks.v1+cell": {
          "cellMetadata": {},
          "inputWidgets": {},
          "nuid": "b6b1b8ff-4096-4e47-bd13-a6f30f5e6fc7",
          "showTitle": false,
          "title": ""
        }
      },
      "source": [
        "## Managing a Model via Code\n",
        "\n",
        "In addition to the user interface, it is possible to manage models via code.  In this exercise, you will take the same trained model as in the prior exercise and manage the model using the `MlflowClient` library in Python."
      ]
    },
    {
      "cell_type": "code",
      "execution_count": 0,
      "metadata": {
        "application/vnd.databricks.v1+cell": {
          "cellMetadata": {},
          "inputWidgets": {},
          "nuid": "e873dcce-9b4c-488f-b48c-57c26c2d4689",
          "showTitle": false,
          "title": ""
        }
      },
      "outputs": [],
      "source": [
        "from mlflow.tracking import MlflowClient\n",
        "import time\n",
        "from mlflow.entities.model_registry.model_version_status import ModelVersionStatus\n",
        "\n",
        "client = MlflowClient()"
      ]
    },
    {
      "cell_type": "markdown",
      "metadata": {
        "application/vnd.databricks.v1+cell": {
          "cellMetadata": {},
          "inputWidgets": {},
          "nuid": "0f57c38f-d56f-4563-8ed7-3e4cb2cb30ea",
          "showTitle": false,
          "title": ""
        }
      },
      "source": [
        "### Retrieve the Model\n",
        "\n",
        "The first step will be to retrieve the model you created in the prior exercise.  To do this, first retrieve the experiment that you created in the prior exercise.  Because you did not specify an experiment name, the name will be the same as this notebook's name."
      ]
    },
    {
      "cell_type": "code",
      "execution_count": 0,
      "metadata": {
        "application/vnd.databricks.v1+cell": {
          "cellMetadata": {},
          "inputWidgets": {},
          "nuid": "76b7262a-f5e9-4907-8177-88883a16b5ab",
          "showTitle": false,
          "title": ""
        }
      },
      "outputs": [],
      "source": [
        "user_name = dbutils.notebook.entry_point.getDbutils().notebook().getContext().tags().apply('user')\n",
        "experiment_name = \"/Users/{user_name}/03 - Managing Experiments and Models/02 - Managing Models\".format(user_name=user_name)\n",
        "\n",
        "experiment = client.get_experiment_by_name(experiment_name)"
      ]
    },
    {
      "cell_type": "markdown",
      "metadata": {
        "application/vnd.databricks.v1+cell": {
          "cellMetadata": {},
          "inputWidgets": {},
          "nuid": "2c4f68ab-70a3-4522-9bd7-abd5ec7e9e7d",
          "showTitle": false,
          "title": ""
        }
      },
      "source": [
        "Next, retrieve the latest run of model training.  This is located in a folder named by the run's unique identifier (`run_uuid`).  From there, you wrote the model to a `model` folder in `train_nyc_taxi()`."
      ]
    },
    {
      "cell_type": "code",
      "execution_count": 0,
      "metadata": {
        "application/vnd.databricks.v1+cell": {
          "cellMetadata": {},
          "inputWidgets": {},
          "nuid": "60303cc3-5129-47dc-9f7e-27bd95ed2252",
          "showTitle": false,
          "title": ""
        }
      },
      "outputs": [],
      "source": [
        "experiment_id = experiment.experiment_id\n",
        "runs_df = client.search_runs(experiment_id, order_by=[\"attributes.start_time desc\"], max_results=1)\n",
        "run_id = runs_df[0].info.run_uuid\n",
        "\n",
        "model_name = \"NYC Taxi Amount API\"\n",
        "\n",
        "artifact_path = \"model\"\n",
        "model_uri = \"runs:/{run_id}/{artifact_path}\".format(run_id=run_id, artifact_path=artifact_path)\n",
        "model_uri"
      ]
    },
    {
      "cell_type": "markdown",
      "metadata": {
        "application/vnd.databricks.v1+cell": {
          "cellMetadata": {},
          "inputWidgets": {},
          "nuid": "14a2a86e-6bfc-41a8-a6aa-7d98dc47199a",
          "showTitle": false,
          "title": ""
        }
      },
      "source": [
        "### Register Model\n",
        "\n",
        "The next step is to register the model.  This model will be registered under the name `NYC Taxi Amount API`.  Once the cell returns \"Model status: READY\", the model will be available.  This may take a few minutes."
      ]
    },
    {
      "cell_type": "code",
      "execution_count": 0,
      "metadata": {
        "application/vnd.databricks.v1+cell": {
          "cellMetadata": {},
          "inputWidgets": {},
          "nuid": "4aec7f0a-cb25-4785-88ea-14f37a5a5c80",
          "showTitle": false,
          "title": ""
        }
      },
      "outputs": [],
      "source": [
        "model_details = mlflow.register_model(model_uri=model_uri, name=model_name)\n",
        "\n",
        "# Wait until the model is ready\n",
        "def wait_until_ready(model_name, model_version):\n",
        "  client = MlflowClient()\n",
        "  for _ in range(10):\n",
        "    model_version_details = client.get_model_version(\n",
        "      name=model_name,\n",
        "      version=model_version,\n",
        "    )\n",
        "    status = ModelVersionStatus.from_string(model_version_details.status)\n",
        "    print(\"Model status: %s\" % ModelVersionStatus.to_string(status))\n",
        "    if status == ModelVersionStatus.READY:\n",
        "      break\n",
        "    time.sleep(1)\n",
        "\n",
        "wait_until_ready(model_details.name, model_details.version)"
      ]
    },
    {
      "cell_type": "markdown",
      "metadata": {
        "application/vnd.databricks.v1+cell": {
          "cellMetadata": {},
          "inputWidgets": {},
          "nuid": "862ea688-2983-4f2d-b435-f2daad73f370",
          "showTitle": false,
          "title": ""
        }
      },
      "source": [
        "Once the model is available, you can update the currently registered model.  The following method calls update the model description and the model version's description, respectively.\n",
        "\n",
        "Each model has one or more versions, which represent iterations on the trained model.  Creating descriptions for these model versions can help you keep track of changes over time, such as using a new algorithm."
      ]
    },
    {
      "cell_type": "code",
      "execution_count": 0,
      "metadata": {
        "application/vnd.databricks.v1+cell": {
          "cellMetadata": {},
          "inputWidgets": {},
          "nuid": "77c3d16b-2c98-4d47-9434-31efe5067881",
          "showTitle": false,
          "title": ""
        }
      },
      "outputs": [],
      "source": [
        "client.update_registered_model(\n",
        "  name=model_details.name,\n",
        "  description=\"This model forecasts the amount a taxi cab ride might cost in New York City.\"\n",
        ")\n",
        "\n",
        "client.update_model_version(\n",
        "  name=model_details.name,\n",
        "  version=model_details.version,\n",
        "  description=\"This model version was built using Spark ML's linear regression algorithm.\"\n",
        ")"
      ]
    },
    {
      "cell_type": "markdown",
      "metadata": {
        "application/vnd.databricks.v1+cell": {
          "cellMetadata": {},
          "inputWidgets": {},
          "nuid": "e453a07e-cdb1-49e1-8843-f8222d078267",
          "showTitle": false,
          "title": ""
        }
      },
      "source": [
        "### Model Staging\n",
        "\n",
        "MLflow allows multiple versions of a model to exist at the same time.  To remove ambiguity in which model should be in use at any time, you can stage models, using states such as `Staging` or `Production`.\n",
        "\n",
        "Use the `Production` stage on the version of the model you want to use for inference.  The process to do this follows."
      ]
    },
    {
      "cell_type": "code",
      "execution_count": 0,
      "metadata": {
        "application/vnd.databricks.v1+cell": {
          "cellMetadata": {},
          "inputWidgets": {},
          "nuid": "31359d6c-7e3e-45d8-9e01-d6a3121496de",
          "showTitle": false,
          "title": ""
        }
      },
      "outputs": [],
      "source": [
        "client.transition_model_version_stage(\n",
        "  name=model_details.name,\n",
        "  version=model_details.version,\n",
        "  stage='Production',\n",
        ")\n",
        "model_version_details = client.get_model_version(\n",
        "  name=model_details.name,\n",
        "  version=model_details.version,\n",
        ")\n",
        "print(\"The current model stage is: '{stage}'\".format(stage=model_version_details.current_stage))\n",
        "\n",
        "latest_version_info = client.get_latest_versions(model_name, stages=[\"Production\"])\n",
        "latest_production_version = latest_version_info[0].version\n",
        "print(\"The latest production version of the model '%s' is '%s'.\" % (model_name, latest_production_version))"
      ]
    },
    {
      "cell_type": "markdown",
      "metadata": {
        "application/vnd.databricks.v1+cell": {
          "cellMetadata": {},
          "inputWidgets": {},
          "nuid": "012c5369-a65e-41d0-9305-234cbaaa2f8c",
          "showTitle": false,
          "title": ""
        }
      },
      "source": [
        "### Model Inference\n",
        "\n",
        "The following function will allow you to forecast the cost of a taxi ride in New York City given certain conditions."
      ]
    },
    {
      "cell_type": "code",
      "execution_count": 0,
      "metadata": {
        "application/vnd.databricks.v1+cell": {
          "cellMetadata": {},
          "inputWidgets": {},
          "nuid": "0daf06d8-8d2c-4dac-bec2-6ece39d2aa46",
          "showTitle": false,
          "title": ""
        }
      },
      "outputs": [],
      "source": [
        "import mlflow.pyfunc\n",
        "\n",
        "def forecast_nyc_taxi_amount(model_name, model_stage, df):\n",
        "  model_uri = \"models:/{model_name}/{model_stage}\".format(model_name=model_name,model_stage=model_stage)\n",
        "  print(\"Loading registered model version from URI: '{model_uri}'\".format(model_uri=model_uri))\n",
        "  model = mlflow.pyfunc.load_model(model_uri)\n",
        "  return model.predict(df)"
      ]
    },
    {
      "cell_type": "markdown",
      "metadata": {
        "application/vnd.databricks.v1+cell": {
          "cellMetadata": {},
          "inputWidgets": {},
          "nuid": "123d6e27-8696-46e8-acc8-325efeef9b43",
          "showTitle": false,
          "title": ""
        }
      },
      "source": [
        "With this function in place, build a sample input and generate the forecast for the `Production` model.  Use the `testData` DataFrame that you created earlier in this lab, as it has all of the inputs in the right shape for performing inference."
      ]
    },
    {
      "cell_type": "code",
      "execution_count": 0,
      "metadata": {
        "application/vnd.databricks.v1+cell": {
          "cellMetadata": {},
          "inputWidgets": {},
          "nuid": "949cb5d4-cd26-42b3-8cc7-0c9e0dd8396e",
          "showTitle": false,
          "title": ""
        }
      },
      "outputs": [],
      "source": [
        "model_stage = \"Production\"\n",
        "df = testData.head(1)\n",
        "forecast_nyc_taxi_amount(model_name, model_stage, df)"
      ]
    },
    {
      "cell_type": "markdown",
      "metadata": {
        "application/vnd.databricks.v1+cell": {
          "cellMetadata": {},
          "inputWidgets": {},
          "nuid": "834a8d93-5fb1-491a-91c9-f5ab953ad531",
          "showTitle": false,
          "title": ""
        }
      },
      "source": [
        "### Model Versioning\n",
        "\n",
        "Creating a new version of a model is easy.  In this case, run the `train_nyc_taxi()` method and specify a new parameter which defines the model name.  This will write a new version of the current model while retaining the current `Production` version."
      ]
    },
    {
      "cell_type": "code",
      "execution_count": 0,
      "metadata": {
        "application/vnd.databricks.v1+cell": {
          "cellMetadata": {},
          "inputWidgets": {},
          "nuid": "d1614d15-b14d-4471-8f0b-3e52c6eba707",
          "showTitle": false,
          "title": ""
        }
      },
      "outputs": [],
      "source": [
        "# Create a new version\n",
        "# L2 penalty, regularization parameter 0.3, 500 iterations\n",
        "train_nyc_taxi(trainingData, testData, label_column, \"features\", 0.0, 0.3, 500, model_name)"
      ]
    },
    {
      "cell_type": "markdown",
      "metadata": {
        "application/vnd.databricks.v1+cell": {
          "cellMetadata": {},
          "inputWidgets": {},
          "nuid": "88ac4be2-c793-43ac-9ee8-fd96d46b0541",
          "showTitle": false,
          "title": ""
        }
      },
      "source": [
        "Now, retrieve the latest version of the `NYC Taxi Amount API` model."
      ]
    },
    {
      "cell_type": "code",
      "execution_count": 0,
      "metadata": {
        "application/vnd.databricks.v1+cell": {
          "cellMetadata": {},
          "inputWidgets": {},
          "nuid": "8408771a-9985-487a-b35b-7111b8f4a263",
          "showTitle": false,
          "title": ""
        }
      },
      "outputs": [],
      "source": [
        "model_version_infos = client.search_model_versions(\"name = '%s'\" % model_name)\n",
        "new_model_version = max([model_version_info.version for model_version_info in model_version_infos])\n",
        "\n",
        "wait_until_ready(model_name, new_model_version)"
      ]
    },
    {
      "cell_type": "markdown",
      "metadata": {
        "application/vnd.databricks.v1+cell": {
          "cellMetadata": {},
          "inputWidgets": {},
          "nuid": "1fe24115-f4c2-410e-bcd1-cbc54779122a",
          "showTitle": false,
          "title": ""
        }
      },
      "source": [
        "Use the model version description to explain how this model differs from the others.  In this case, you changed the value of the *max_iter* parameter from 50 to 500 and also changed the ElasticNet parameter."
      ]
    },
    {
      "cell_type": "code",
      "execution_count": 0,
      "metadata": {
        "application/vnd.databricks.v1+cell": {
          "cellMetadata": {},
          "inputWidgets": {},
          "nuid": "85526658-b2bd-472e-bbaf-c4642a86b70a",
          "showTitle": false,
          "title": ""
        }
      },
      "outputs": [],
      "source": [
        "client.update_model_version(\n",
        "  name=model_name,\n",
        "  version=new_model_version,\n",
        "  description=\"This model version has changed the max number of iterations to 500 and minimizes L2 penalties.\"\n",
        ")"
      ]
    },
    {
      "cell_type": "markdown",
      "metadata": {
        "application/vnd.databricks.v1+cell": {
          "cellMetadata": {},
          "inputWidgets": {},
          "nuid": "acfc067f-d8b0-404a-8128-cee07af11c9b",
          "showTitle": false,
          "title": ""
        }
      },
      "source": [
        "Before moving this model to production, you can stage the model by moving this version to `Staging`."
      ]
    },
    {
      "cell_type": "code",
      "execution_count": 0,
      "metadata": {
        "application/vnd.databricks.v1+cell": {
          "cellMetadata": {},
          "inputWidgets": {},
          "nuid": "290ab016-38ee-4fd2-becb-9a09ba22e86d",
          "showTitle": false,
          "title": ""
        }
      },
      "outputs": [],
      "source": [
        "client.transition_model_version_stage(\n",
        "  name=model_name,\n",
        "  version=new_model_version,\n",
        "  stage=\"Staging\",\n",
        ")"
      ]
    },
    {
      "cell_type": "markdown",
      "metadata": {
        "application/vnd.databricks.v1+cell": {
          "cellMetadata": {},
          "inputWidgets": {},
          "nuid": "7a653a61-f5d9-40ab-a03e-bcb5717687f3",
          "showTitle": false,
          "title": ""
        }
      },
      "source": [
        "The reason the `forecast_nyc_taxi_amount()` function included a model stage is to allow testing of the `Staging` model before transitioning it to `Production`.\n",
        "\n",
        "Note that the predicted amount is slightly different from the model in production."
      ]
    },
    {
      "cell_type": "code",
      "execution_count": 0,
      "metadata": {
        "application/vnd.databricks.v1+cell": {
          "cellMetadata": {},
          "inputWidgets": {},
          "nuid": "14a44e6b-8be6-479f-951b-6fdecdac2bff",
          "showTitle": false,
          "title": ""
        }
      },
      "outputs": [],
      "source": [
        "# Generate a prediction for the new model\n",
        "forecast_nyc_taxi_amount(model_name, \"Staging\", df)"
      ]
    },
    {
      "cell_type": "markdown",
      "metadata": {
        "application/vnd.databricks.v1+cell": {
          "cellMetadata": {},
          "inputWidgets": {},
          "nuid": "2a020ba7-e764-4f82-b42d-68fc05213a2a",
          "showTitle": false,
          "title": ""
        }
      },
      "source": [
        "It looks like this didn't change the results very much, but there is a small difference.  Let's say that you are confident in the new model and are ready to make it the new production model."
      ]
    },
    {
      "cell_type": "markdown",
      "metadata": {
        "application/vnd.databricks.v1+cell": {
          "cellMetadata": {},
          "inputWidgets": {},
          "nuid": "51758036-9776-49e2-9fc7-e11faf8fe9fa",
          "showTitle": false,
          "title": ""
        }
      },
      "source": [
        "### Transitioning a New Version of a Model\n",
        "\n",
        "Now that the `Staging` model version is out, the next step is to transition the latest model version to `Production`.  Do this using the same `transition_model_version_stage()` method as before."
      ]
    },
    {
      "cell_type": "code",
      "execution_count": 0,
      "metadata": {
        "application/vnd.databricks.v1+cell": {
          "cellMetadata": {},
          "inputWidgets": {},
          "nuid": "ef43df62-0825-42c8-81d5-0137d3304e05",
          "showTitle": false,
          "title": ""
        }
      },
      "outputs": [],
      "source": [
        "client.transition_model_version_stage(\n",
        "  name=model_name,\n",
        "  version=new_model_version,\n",
        "  stage=\"Production\",\n",
        ")"
      ]
    },
    {
      "cell_type": "code",
      "execution_count": 0,
      "metadata": {
        "application/vnd.databricks.v1+cell": {
          "cellMetadata": {},
          "inputWidgets": {},
          "nuid": "feac8799-c1d2-46c1-bda8-d565636e7a3a",
          "showTitle": false,
          "title": ""
        }
      },
      "outputs": [],
      "source": [
        "client.search_model_versions(\"name = '%s'\" % model_name)"
      ]
    },
    {
      "cell_type": "markdown",
      "metadata": {
        "application/vnd.databricks.v1+cell": {
          "cellMetadata": {},
          "inputWidgets": {},
          "nuid": "b581244b-4626-4791-a173-31cc8bdec09c",
          "showTitle": false,
          "title": ""
        }
      },
      "source": [
        "Now both model versions are tagged as production.  Which one will Azure Databricks use?"
      ]
    },
    {
      "cell_type": "code",
      "execution_count": 0,
      "metadata": {
        "application/vnd.databricks.v1+cell": {
          "cellMetadata": {},
          "inputWidgets": {},
          "nuid": "825ed113-cfac-4ef6-87cf-d8b92221be30",
          "showTitle": false,
          "title": ""
        }
      },
      "outputs": [],
      "source": [
        "forecast_nyc_taxi_amount(model_name, \"Production\", df)"
      ]
    },
    {
      "cell_type": "markdown",
      "metadata": {
        "application/vnd.databricks.v1+cell": {
          "cellMetadata": {},
          "inputWidgets": {},
          "nuid": "75dcf916-3ac1-4583-a9b0-2d11493a03a7",
          "showTitle": false,
          "title": ""
        }
      },
      "source": [
        "It turns out that Azure Databricks looks for the latest model version with a given tag.  We can tell because the predicted amount is the same amount we saw from the most recently trained model--in other words, the one we most recently promoted to `Production`.\n",
        "\n",
        "This means that you could conceivably have several `Production` versions of models running concurrently.  But a more practical plan is to archive the old model.\n",
        "\n",
        "### Archiving a Model Version\n",
        "\n",
        "In order to archive a model version, call `transition_model_version_stage()` once more, but use the `Archived` stage."
      ]
    },
    {
      "cell_type": "code",
      "execution_count": 0,
      "metadata": {
        "application/vnd.databricks.v1+cell": {
          "cellMetadata": {},
          "inputWidgets": {},
          "nuid": "7627ddf5-0042-4a6f-9201-b097971f2a9d",
          "showTitle": false,
          "title": ""
        }
      },
      "outputs": [],
      "source": [
        "client.transition_model_version_stage(\n",
        "  name=model_name,\n",
        "  version=model_details.version,\n",
        "  stage=\"Archived\",\n",
        ")"
      ]
    },
    {
      "cell_type": "markdown",
      "metadata": {
        "application/vnd.databricks.v1+cell": {
          "cellMetadata": {},
          "inputWidgets": {},
          "nuid": "005bde2a-d7a0-4fab-810a-b1093c56f376",
          "showTitle": false,
          "title": ""
        }
      },
      "source": [
        "If you wish to go further and delete a model version, a method is available for that as well."
      ]
    },
    {
      "cell_type": "code",
      "execution_count": 0,
      "metadata": {
        "application/vnd.databricks.v1+cell": {
          "cellMetadata": {},
          "inputWidgets": {},
          "nuid": "7a890d82-abff-4ff6-b3b6-66ce5932d68e",
          "showTitle": false,
          "title": ""
        }
      },
      "outputs": [],
      "source": [
        "client.delete_model_version(\n",
        "   name=model_name,\n",
        "   version=model_details.version,\n",
        ")"
      ]
    },
    {
      "cell_type": "markdown",
      "metadata": {
        "application/vnd.databricks.v1+cell": {
          "cellMetadata": {},
          "inputWidgets": {},
          "nuid": "2ee71319-522b-4f7c-abe8-b58aa08cebe6",
          "showTitle": false,
          "title": ""
        }
      },
      "source": [
        "Before you are able to delete a model, you must transition all `Production` or `Staging` versions to `Archived`.  This is a safety precaution to prevent accidentally deleting a model being served in production.  The following cells will transition the new model version to `Archived` and then delete this model version."
      ]
    },
    {
      "cell_type": "code",
      "execution_count": 0,
      "metadata": {
        "application/vnd.databricks.v1+cell": {
          "cellMetadata": {},
          "inputWidgets": {},
          "nuid": "e8d14503-f3fe-4b50-a956-86a5bb2d9d3f",
          "showTitle": false,
          "title": ""
        }
      },
      "outputs": [],
      "source": [
        "# Need to transition before deleting\n",
        "client.transition_model_version_stage(\n",
        "  name=model_name,\n",
        "  version=new_model_version,\n",
        "  stage=\"Archived\",\n",
        ")"
      ]
    },
    {
      "cell_type": "code",
      "execution_count": 0,
      "metadata": {
        "application/vnd.databricks.v1+cell": {
          "cellMetadata": {},
          "inputWidgets": {},
          "nuid": "da60d603-6bd9-45d9-880b-8b86e24a7b48",
          "showTitle": false,
          "title": ""
        }
      },
      "outputs": [],
      "source": [
        "client.delete_model_version(\n",
        "   name=model_name,\n",
        "   version=new_model_version\n",
        ")"
      ]
    },
    {
      "cell_type": "markdown",
      "metadata": {
        "application/vnd.databricks.v1+cell": {
          "cellMetadata": {},
          "inputWidgets": {},
          "nuid": "ff5f9fc1-4775-46b5-9094-9944da65c0fc",
          "showTitle": false,
          "title": ""
        }
      },
      "source": [
        "Finally, you will be able to delete the registered model."
      ]
    },
    {
      "cell_type": "code",
      "execution_count": 0,
      "metadata": {
        "application/vnd.databricks.v1+cell": {
          "cellMetadata": {},
          "inputWidgets": {},
          "nuid": "03be24fc-4b0c-4260-bb98-205f7d09c254",
          "showTitle": false,
          "title": ""
        }
      },
      "outputs": [],
      "source": [
        "client.delete_registered_model(name=model_name)"
      ]
    }
  ],
  "metadata": {
    "application/vnd.databricks.v1+notebook": {
      "dashboards": [],
      "language": "python",
      "notebookMetadata": {
        "pythonIndentUnit": 2
      },
      "notebookName": "02 - Managing Models",
      "widgets": {}
    }
  },
  "nbformat": 4,
  "nbformat_minor": 0
}
