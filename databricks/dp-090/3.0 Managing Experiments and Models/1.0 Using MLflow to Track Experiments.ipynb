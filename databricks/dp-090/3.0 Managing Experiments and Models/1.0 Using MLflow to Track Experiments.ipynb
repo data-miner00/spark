{
  "cells": [
    {
      "cell_type": "markdown",
      "metadata": {
        "application/vnd.databricks.v1+cell": {
          "cellMetadata": {},
          "inputWidgets": {},
          "nuid": "33f83609-3785-4492-a807-7446b52cdbee",
          "showTitle": false,
          "title": ""
        }
      },
      "source": [
        "# Using MLflow to Track Experiments\n",
        "\n",
        "## Running an Experiment\n",
        "In this exercise, you will use the `nyc-taxi` dataset that you created for lab 2 to train a model which predicts the total fare based on a subset of the NYC Taxi & Limousine Commission - green taxi trip records.  You will create a linear regression model as in the prior lab. In this notebook, a key difference is that you will train variants of this model, changing **hyperparameters** to try to achieve better performance.\n",
        "\n",
        "You will also use MLflow to log the associated metrics, parameters, artifacts, and model for each attempt.  The goal of this process is to determine which hyperparameters work best for generating accurate predictions.  Keeping track of results on your own in a spreadsheet or text document is possible but inefficient.  It would be better to do this work as close to the model and training process as possible.  With MLflow, you can create **experiments** to do just that.  An experiment is a logical collection of **runs**.  Each run is a different attempt at training.  You can control the nature of these runs--in this experiment, you will try out a series of hyperparameters for the same algorithm and data and compare which fares best.  But that's not the only way you can use experiments.  For example, you could create an experiment and have each run of the experiment try out a different algorithm altogether, or create an experiment and have each run look at a different subset of data for training."
      ]
    },
    {
      "cell_type": "markdown",
      "metadata": {
        "application/vnd.databricks.v1+cell": {
          "cellMetadata": {},
          "inputWidgets": {},
          "nuid": "60dada2d-de12-41ca-bd62-e85fc6749272",
          "showTitle": false,
          "title": ""
        }
      },
      "source": [
        "### Start Your Cluster\n",
        "To get started, first attach a Databricks cluster to this notebook.  If you have not created a cluster yet, use the **Clusters** menu on the left-hand sidebar to create a new Databricks cluster.  Then, return to this notebook and attach the newly-created cluster to this notebook."
      ]
    },
    {
      "cell_type": "code",
      "execution_count": 0,
      "metadata": {
        "application/vnd.databricks.v1+cell": {
          "cellMetadata": {},
          "inputWidgets": {},
          "nuid": "d2ae4993-7b1b-498c-a993-4fdfec993d79",
          "showTitle": false,
          "title": ""
        }
      },
      "outputs": [],
      "source": [
        "import urllib.request\n",
        "import os\n",
        "import warnings\n",
        "import sys\n",
        "import numpy as np\n",
        "from pyspark.sql.types import * \n",
        "from pyspark.sql.functions import col, lit\n",
        "from pyspark.sql.functions import udf\n",
        "import matplotlib\n",
        "import matplotlib.pyplot as plt\n",
        "import mlflow\n",
        "import mlflow.spark\n",
        "\n",
        "print('Loaded libraries.')"
      ]
    },
    {
      "cell_type": "markdown",
      "metadata": {
        "application/vnd.databricks.v1+cell": {
          "cellMetadata": {},
          "inputWidgets": {},
          "nuid": "21b3afd8-0f48-4385-81d2-ebeb31f7d354",
          "showTitle": false,
          "title": ""
        }
      },
      "source": [
        "## Load the training data\n",
        "\n",
        "In this notebook, we will be using a subset of NYC Taxi & Limousine Commission - green taxi trip records available from [Azure Open Datasets]( https://azure.microsoft.com/en-us/services/open-datasets/). The data is enriched with holiday and weather data. Each row of the table represents a taxi ride that includes columns such as number of passengers, trip distance, datetime information, holiday and weather information, and the taxi fare for the trip.\n",
        "\n",
        "Run the following cell to load the table into a Spark dataframe and reivew the dataframe."
      ]
    },
    {
      "cell_type": "code",
      "execution_count": 0,
      "metadata": {
        "application/vnd.databricks.v1+cell": {
          "cellMetadata": {},
          "inputWidgets": {},
          "nuid": "ef70af33-4d64-4ed9-9837-25b26d958be5",
          "showTitle": false,
          "title": ""
        }
      },
      "outputs": [],
      "source": [
        "dataset = spark.sql(\"select * from nyc_taxi\")\n",
        "display(dataset)"
      ]
    },
    {
      "cell_type": "markdown",
      "metadata": {
        "application/vnd.databricks.v1+cell": {
          "cellMetadata": {},
          "inputWidgets": {},
          "nuid": "5fb5ac10-c5c5-4ea8-b853-e121ff6b97b2",
          "showTitle": false,
          "title": ""
        }
      },
      "source": [
        "### Featurize and Train the Model\n",
        "\n",
        "As a starting point, perform the same featurization as in the exercises for lab 2.  The following code engineers a cyclical feature to represent `hour_of_day` and performs other data cleanup work.  From there, it builds a `VectorAssembler` to combine feature columns into a single vector column named **features**.  Finally, it transforms the data and provides us resulting training and test data sets, which we can use for training and validating a model."
      ]
    },
    {
      "cell_type": "code",
      "execution_count": 0,
      "metadata": {
        "application/vnd.databricks.v1+cell": {
          "cellMetadata": {},
          "inputWidgets": {},
          "nuid": "79e1bb80-f072-40ea-958a-019401d8c07e",
          "showTitle": false,
          "title": ""
        }
      },
      "outputs": [],
      "source": [
        "from pyspark.ml.feature import Imputer\n",
        "from pyspark.ml.feature import VectorAssembler\n",
        "from pyspark.ml.feature import MinMaxScaler\n",
        "from pyspark.ml.feature import StringIndexer\n",
        "from pyspark.ml.feature import OneHotEncoder\n",
        "from pyspark.ml import Pipeline\n",
        "\n",
        "def get_sin_cosine(value, max_value):\n",
        "  sine =  np.sin(value * (2.*np.pi/max_value))\n",
        "  cosine = np.cos(value * (2.*np.pi/max_value))\n",
        "  return (sine.tolist(), cosine.tolist())\n",
        "\n",
        "schema = StructType([\n",
        "    StructField(\"sine\", DoubleType(), False),\n",
        "    StructField(\"cosine\", DoubleType(), False)\n",
        "])\n",
        "\n",
        "get_sin_cosineUDF = udf(get_sin_cosine, schema)\n",
        "\n",
        "dataset = dataset.withColumn(\"udfResult\", get_sin_cosineUDF(col(\"hour_of_day\"), lit(24))).withColumn(\"hour_sine\", col(\"udfResult.sine\")).withColumn(\"hour_cosine\", col(\"udfResult.cosine\")).drop(\"udfResult\").drop(\"hour_of_day\")\n",
        "\n",
        "dataset = dataset.filter(dataset.totalAmount.isNotNull())\n",
        "\n",
        "dataset = dataset.withColumn(\"isPaidTimeOff\", col(\"isPaidTimeOff\").cast(\"integer\"))\n",
        "\n",
        "numerical_cols = [\"passengerCount\", \"tripDistance\", \"snowDepth\", \"precipTime\", \"precipDepth\", \"temperature\", \"hour_sine\", \"hour_cosine\"]\n",
        "categorical_cols = [\"day_of_week\", \"month_num\", \"normalizeHolidayName\", \"isPaidTimeOff\"]\n",
        "label_column = \"totalAmount\"\n",
        "\n",
        "stages = []\n",
        "\n",
        "inputCols = [\"passengerCount\"]\n",
        "outputCols = [\"passengerCount\"]\n",
        "imputer = Imputer(strategy=\"median\", inputCols=inputCols, outputCols=outputCols)\n",
        "stages += [imputer]\n",
        "\n",
        "assembler = VectorAssembler().setInputCols(numerical_cols).setOutputCol('numerical_features')\n",
        "scaler = MinMaxScaler(inputCol=assembler.getOutputCol(), outputCol=\"scaled_numerical_features\")\n",
        "stages += [assembler, scaler]\n",
        "\n",
        "for categorical_col in categorical_cols:\n",
        "    # Category Indexing with StringIndexer\n",
        "    stringIndexer = StringIndexer(inputCol=categorical_col, outputCol=categorical_col + \"_index\", handleInvalid=\"skip\")\n",
        "    encoder = OneHotEncoder(inputCols=[stringIndexer.getOutputCol()], outputCols=[categorical_col + \"_classVector\"])\n",
        "    # Add stages.  These are not run here, but will run all at once later on.\n",
        "    stages += [stringIndexer, encoder]\n",
        "    \n",
        "assemblerInputs = [c + \"_classVector\" for c in categorical_cols] + [\"scaled_numerical_features\"]\n",
        "assembler = VectorAssembler(inputCols=assemblerInputs, outputCol=\"features\")\n",
        "stages += [assembler]\n",
        "\n",
        "partialPipeline = Pipeline().setStages(stages)\n",
        "pipelineModel = partialPipeline.fit(dataset)\n",
        "preppedDataDF = pipelineModel.transform(dataset)\n",
        "\n",
        "(trainingData, testData) = preppedDataDF.randomSplit([0.7, 0.3], seed=97)\n",
        "\n",
        "\n",
        "print('Created datasets')"
      ]
    },
    {
      "cell_type": "markdown",
      "metadata": {
        "application/vnd.databricks.v1+cell": {
          "cellMetadata": {},
          "inputWidgets": {},
          "nuid": "96579fb8-f002-41a8-bc10-02ee9581676e",
          "showTitle": false,
          "title": ""
        }
      },
      "source": [
        "### Plot Regression Quality\n",
        "\n",
        "This function will be useful for training, as it provides a visual overview of model performance.  Given a set of predictions, this function generates an image similar to the final image in Lab 2b, allowing us to see how well a particular model performs."
      ]
    },
    {
      "cell_type": "code",
      "execution_count": 0,
      "metadata": {
        "application/vnd.databricks.v1+cell": {
          "cellMetadata": {},
          "inputWidgets": {},
          "nuid": "2e3e077e-f4cb-4884-9940-c76a9577894f",
          "showTitle": false,
          "title": ""
        }
      },
      "outputs": [],
      "source": [
        "def plot_regression_quality(predictions):\n",
        "  p_df = predictions.select([\"totalAmount\",  \"prediction\"]).toPandas()\n",
        "  true_value = p_df.totalAmount\n",
        "  predicted_value = p_df.prediction\n",
        "\n",
        "  fig = plt.figure(figsize=(10,10))\n",
        "  plt.scatter(true_value, predicted_value, c='crimson')\n",
        "  plt.yscale('log')\n",
        "  plt.xscale('log')\n",
        "\n",
        "  p1 = max(max(predicted_value), max(true_value))\n",
        "  p2 = min(min(predicted_value), min(true_value))\n",
        "  plt.plot([p1, p2], [p1, p2], 'b-')\n",
        "  plt.xlabel('True Values', fontsize=15)\n",
        "  plt.ylabel('Predictions', fontsize=15)\n",
        "  plt.axis('equal')\n",
        "  \n",
        "  global image\n",
        "\n",
        "  image = fig\n",
        "  fig.savefig(\"LinearRegressionPrediction.png\")\n",
        "  plt.close(fig)\n",
        "  return image\n",
        "\n",
        "print('Created regression quality plot function')"
      ]
    },
    {
      "cell_type": "markdown",
      "metadata": {
        "application/vnd.databricks.v1+cell": {
          "cellMetadata": {},
          "inputWidgets": {},
          "nuid": "44df24c8-3dd8-4f0d-b359-e5848e2dafc0",
          "showTitle": false,
          "title": ""
        }
      },
      "source": [
        "### Create an MLflow Run\n",
        "\n",
        "The next method trains a linear regression model using the dataset called `trainingData` and validates the model using the `testData` dataset.  Along with these inputs, define the label and features columns, which will allow the linear regression algorithm to know which columns to use.\n",
        "\n",
        "You will run this method several times.  For each run, you will set three hyperparameters.  The first, `elastic_net_param`, represents the ElasticNet mixing parameter.  The second, `reg_param`, represents the regularization parameter.  The third, `max_iter`, represents the maximum number of iterations allowed during training.  These three input parameters can affect how quickly the linear regression model will converge on its answer, as well as how close it will get to a hypothetical \"best\" model.\n",
        "\n",
        "In addition, this method uses MLflow Tracking to record its\n",
        "* parameters\n",
        "* metrics\n",
        "* model\n",
        "* arbitrary files, namely a graph showing predicted versus actual values for total amounts.\n",
        "\n",
        "**Tip:** Use `with mlflow.start_run:` in the Python code to create a new MLflow run. This is the recommended way to use MLflow in notebook cells. Whether your code completes or exits with an error, the `with` context will make sure to close the MLflow run, so you don't have to call `mlflow.end_run`."
      ]
    },
    {
      "cell_type": "code",
      "execution_count": 0,
      "metadata": {
        "application/vnd.databricks.v1+cell": {
          "cellMetadata": {},
          "inputWidgets": {},
          "nuid": "85f731e3-1043-4ea5-9de2-4f4922f21b4f",
          "showTitle": false,
          "title": ""
        }
      },
      "outputs": [],
      "source": [
        "from pyspark.ml.regression import LinearRegression\n",
        "from pyspark.ml.evaluation import RegressionEvaluator\n",
        "\n",
        "def train_nyc_taxi(train_data, test_data, label_column, features_column, elastic_net_param, reg_param, max_iter):\n",
        "  # Evaluate metrics\n",
        "  def eval_metrics(predictions):\n",
        "      evaluator = RegressionEvaluator(\n",
        "          labelCol=label_column, predictionCol=\"prediction\", metricName=\"rmse\")\n",
        "      rmse = evaluator.evaluate(predictions)\n",
        "      evaluator = RegressionEvaluator(\n",
        "          labelCol=label_column, predictionCol=\"prediction\", metricName=\"mae\")\n",
        "      mae = evaluator.evaluate(predictions)\n",
        "      evaluator = RegressionEvaluator(\n",
        "          labelCol=label_column, predictionCol=\"prediction\", metricName=\"r2\")\n",
        "      r2 = evaluator.evaluate(predictions)\n",
        "      return rmse, mae, r2\n",
        "\n",
        "  # Start an MLflow run; the \"with\" keyword ensures we'll close the run even if this cell crashes\n",
        "  with mlflow.start_run():\n",
        "    lr = LinearRegression(featuresCol=\"features\", labelCol=label_column, elasticNetParam=elastic_net_param, regParam=reg_param, maxIter=max_iter)\n",
        "    lrModel = lr.fit(train_data)\n",
        "    predictions = lrModel.transform(test_data)\n",
        "    (rmse, mae, r2) = eval_metrics(predictions)\n",
        "\n",
        "    # Print out model metrics\n",
        "    print(\"Linear regression model (elasticNetParam=%f, regParam=%f, maxIter=%f):\" % (elastic_net_param, reg_param, max_iter))\n",
        "    print(\"  RMSE: %s\" % rmse)\n",
        "    print(\"  MAE: %s\" % mae)\n",
        "    print(\"  R2: %s\" % r2)\n",
        "\n",
        "    # Log hyperparameters for mlflow UI\n",
        "    mlflow.log_param(\"elastic_net_param\", elastic_net_param)\n",
        "    mlflow.log_param(\"reg_param\", reg_param)\n",
        "    mlflow.log_param(\"max_iter\", max_iter)\n",
        "    # Log evaluation metrics\n",
        "    mlflow.log_metric(\"rmse\", rmse)\n",
        "    mlflow.log_metric(\"r2\", r2)\n",
        "    mlflow.log_metric(\"mae\", mae)\n",
        "    # Log the model itself\n",
        "    mlflow.spark.log_model(lrModel, \"model\")\n",
        "    modelpath = \"/dbfs/mlflow/taxi_total_amount/model-%f-%f-%f\" % (elastic_net_param, reg_param, max_iter)\n",
        "    mlflow.spark.save_model(lrModel, modelpath)\n",
        "    \n",
        "    # Generate a plot\n",
        "    image = plot_regression_quality(predictions)\n",
        "    \n",
        "    # Log artifacts (in this case, the regression quality image)\n",
        "    mlflow.log_artifact(\"LinearRegressionPrediction.png\")\n",
        "    \n",
        "print('Created training and evaluation method')"
      ]
    },
    {
      "cell_type": "markdown",
      "metadata": {
        "application/vnd.databricks.v1+cell": {
          "cellMetadata": {},
          "inputWidgets": {},
          "nuid": "0774a6fd-0beb-4210-888d-9e7b2c8548a4",
          "showTitle": false,
          "title": ""
        }
      },
      "source": [
        "### Experiment with Different Parameters\n",
        "\n",
        "Call `train_nyc_taxi` with different parameters. Later, you'll be able to visualize each of these runs in the MLflow experiment.\n",
        "\n",
        "Before calling the method, the following command removes data from prior runs, allowing you to re-run the notebook later without error."
      ]
    },
    {
      "cell_type": "code",
      "execution_count": 0,
      "metadata": {
        "application/vnd.databricks.v1+cell": {
          "cellMetadata": {},
          "inputWidgets": {},
          "nuid": "efdceb52-08e6-4ab4-97ce-2146be9a781c",
          "showTitle": false,
          "title": ""
        }
      },
      "outputs": [],
      "source": [
        "%fs rm -r dbfs:/mlflow/taxi_total_amount"
      ]
    },
    {
      "cell_type": "code",
      "execution_count": 0,
      "metadata": {
        "application/vnd.databricks.v1+cell": {
          "cellMetadata": {},
          "inputWidgets": {},
          "nuid": "0e562ff6-1602-4cdc-924c-908574251575",
          "showTitle": false,
          "title": ""
        }
      },
      "outputs": [],
      "source": [
        "# L2 penalty, regularization parameter 0.0, 1 iteration\n",
        "train_nyc_taxi(trainingData, testData, label_column, \"features\", 0.0, 0.0, 1)"
      ]
    },
    {
      "cell_type": "markdown",
      "metadata": {
        "application/vnd.databricks.v1+cell": {
          "cellMetadata": {},
          "inputWidgets": {},
          "nuid": "0029e698-0126-46cc-a261-e1edcf28cc18",
          "showTitle": false,
          "title": ""
        }
      },
      "source": [
        "This first execution returned an R^2 value of 0.77, meaning that the generated line explains 77% of total variance in our validation data set.  The Root Mean Square Error (RMSE) is $5.37 and the Mean Absolute Error (MAE) is $2.42.  These two measures provide us an estimation of how far off these predictions are, where RMSE penalizes distant values significantly more than MAE.  For our purposes, we will look at RMSE and R^2 as our measures of quality.\n",
        "\n",
        "Following is a visual which shows each test data point (in red) versus the expected value (in blue).  We can see that there is a strong correlation, although there are some cases in which the model was pretty far off."
      ]
    },
    {
      "cell_type": "code",
      "execution_count": 0,
      "metadata": {
        "application/vnd.databricks.v1+cell": {
          "cellMetadata": {},
          "inputWidgets": {},
          "nuid": "33ee5bac-f608-4315-a715-575e3198aa0c",
          "showTitle": false,
          "title": ""
        }
      },
      "outputs": [],
      "source": [
        "display(image)"
      ]
    },
    {
      "cell_type": "markdown",
      "metadata": {
        "application/vnd.databricks.v1+cell": {
          "cellMetadata": {},
          "inputWidgets": {},
          "nuid": "024b1dc5-832f-4cd3-a1fa-51ae6a5e5598",
          "showTitle": false,
          "title": ""
        }
      },
      "source": [
        "Trying the model with a different set of hyperparameters is as easy as changing the inputs to our method."
      ]
    },
    {
      "cell_type": "code",
      "execution_count": 0,
      "metadata": {
        "application/vnd.databricks.v1+cell": {
          "cellMetadata": {},
          "inputWidgets": {},
          "nuid": "96b42b37-143c-482f-9f79-a58d42398a4d",
          "showTitle": false,
          "title": ""
        }
      },
      "outputs": [],
      "source": [
        "# L1 penalty, regularization parameter 0.3, 50 iterations\n",
        "train_nyc_taxi(trainingData, testData, label_column, \"features\", 1.0, 0.3, 50)"
      ]
    },
    {
      "cell_type": "markdown",
      "metadata": {
        "application/vnd.databricks.v1+cell": {
          "cellMetadata": {},
          "inputWidgets": {},
          "nuid": "a9af1ebe-eb5c-4729-b3f1-f7dffebaeac1",
          "showTitle": false,
          "title": ""
        }
      },
      "source": [
        "In this case, the R^2 went up and RMSE went down, both of which are good signs.  This model is marginally better than the first:  we are approximately 15 cents more accurate and explain approximately 1% more of the total variance.  These are not enormous changes, but are a step in the right direction."
      ]
    },
    {
      "cell_type": "code",
      "execution_count": 0,
      "metadata": {
        "application/vnd.databricks.v1+cell": {
          "cellMetadata": {},
          "inputWidgets": {},
          "nuid": "031412ab-06ac-461c-ad14-e2416737e664",
          "showTitle": false,
          "title": ""
        }
      },
      "outputs": [],
      "source": [
        "display(image)"
      ]
    },
    {
      "cell_type": "markdown",
      "metadata": {
        "application/vnd.databricks.v1+cell": {
          "cellMetadata": {},
          "inputWidgets": {},
          "nuid": "401aa0d7-09f4-454c-a4f0-be165e86eafe",
          "showTitle": false,
          "title": ""
        }
      },
      "source": [
        "That said, it does appear that the results for inexpensive rides skew high, meaning that the predictions were larger than actual values.  We can see this in the shape of the curve:  near the bottom-left corner, we see that the red dots (which signify individual data points) are almost all above the blue line.  Contrast this to the first image, where the data points were on both sides of the line."
      ]
    },
    {
      "cell_type": "code",
      "execution_count": 0,
      "metadata": {
        "application/vnd.databricks.v1+cell": {
          "cellMetadata": {},
          "inputWidgets": {},
          "nuid": "ae91e35f-2d61-4cd0-84af-18b44d1a752d",
          "showTitle": false,
          "title": ""
        }
      },
      "outputs": [],
      "source": [
        "# 50/50 mixed L1 and L2, regularization parameter 0.9, 1000 iterations\n",
        "train_nyc_taxi(trainingData, testData, label_column, \"features\", 0.5, 0.9, 1000)"
      ]
    },
    {
      "cell_type": "markdown",
      "metadata": {
        "application/vnd.databricks.v1+cell": {
          "cellMetadata": {},
          "inputWidgets": {},
          "nuid": "3a8fbc43-9f0e-420f-8410-f976fc1c181a",
          "showTitle": false,
          "title": ""
        }
      },
      "source": [
        "This third execution is somewhere between the first and the second.  As we can see in the image below, this suffers from the same skew as our second model."
      ]
    },
    {
      "cell_type": "code",
      "execution_count": 0,
      "metadata": {
        "application/vnd.databricks.v1+cell": {
          "cellMetadata": {},
          "inputWidgets": {},
          "nuid": "f02e9b58-95cb-462d-a918-860ccfb70394",
          "showTitle": false,
          "title": ""
        }
      },
      "outputs": [],
      "source": [
        "display(image)"
      ]
    },
    {
      "cell_type": "markdown",
      "metadata": {
        "application/vnd.databricks.v1+cell": {
          "cellMetadata": {},
          "inputWidgets": {},
          "nuid": "dbfe93b6-612e-412d-8fe1-0f246aa393a0",
          "showTitle": false,
          "title": ""
        }
      },
      "source": [
        "This information is now stored in the MLflow tracking server.  In the next exercise, we will learn two methods of working with this data:  by reviewing the experiment details in the Databricks user interface, as well as interacting with MLflow programmatically."
      ]
    },
    {
      "cell_type": "markdown",
      "metadata": {
        "application/vnd.databricks.v1+cell": {
          "cellMetadata": {},
          "inputWidgets": {},
          "nuid": "fcba6dcc-7ce0-4092-b484-35a262f73096",
          "showTitle": false,
          "title": ""
        }
      },
      "source": [
        "## Reviewing Experiment Metrics\n",
        "\n",
        "There are two techniques you can use to review the results of different runs in your experiment.  The first method is to use the Databricks user interface to view experiment and run details.  The second method is to access these details programmatically.\n",
        "\n",
        "### View the Experiment, Runs, and Run Details with the Databricks UI\n",
        "\n",
        "The first way that you can access information on experiments, runs, and run details is via the Databricks UI.\n",
        "\n",
        "1. Select the **Experiment** option in the notebook context bar (at the top of this page and on the right-hand side) to display the Experiment sidebar. In the sidebar, you can view the run parameters and metrics.  Review the run parameters by selecting the first **[+]**.  This will display each parameter that you logged on a separate line.  Then, select the second **[+]**.  This will expand out and display each metric that you logged.  Below these two, there is a link to each model you saved in a run, as well as the type (in this case, `spark`).\n",
        "   \n",
        "1. Select the External Link icon in the Experiment Runs context bar to view additional details on a particular run.  These details open out in a new tab and include the parameters and metrics, as well as any tags you created for a run.  You can set tags using `mlflow.set_tags()`, or use the UI afterward to add tags after the fact.  In addition, you can review artifacts.  In the prior exercise, you created a model as well as an image for each run.  This interface will allow you to see the generated image even after you clear this notebook.\n",
        "\n",
        "Review each of the runs in the user interface.\n",
        "\n",
        "#### Reproducing a Run\n",
        "\n",
        "After you have reviewed the runs, try to reproduce the results of this experiment.  Reproducability is critical in machine learning, as it allows people to build confidence in the quality of generated models, as well as help ensure that the model out in production really is the same as what you expect.  To do this in Azure Databricks is as simple as selecting the **Reproduce Run** option for an experiment run.  This will open a modal dialog with three steps:  cloning the notebook, recreating a cluster, and installing relevant cluster libraries.  Select **Confirm** to create a new notebook.  Attach this new notebook to a cluster and run through the steps.\n",
        "\n",
        "### View the Experiment, Runs, and Run Details Programmatically\n",
        "\n",
        "You can also obtain experiment details using the Spark language of your choice.  To access this data, you will create an `MlflowClient`."
      ]
    },
    {
      "cell_type": "code",
      "execution_count": 0,
      "metadata": {
        "application/vnd.databricks.v1+cell": {
          "cellMetadata": {},
          "inputWidgets": {},
          "nuid": "7123c341-95ca-48cb-8bc0-244d51140b31",
          "showTitle": false,
          "title": ""
        }
      },
      "outputs": [],
      "source": [
        "from mlflow.tracking import MlflowClient\n",
        "\n",
        "client = MlflowClient()\n",
        "\n",
        "print('Loaded MLflow Client')"
      ]
    },
    {
      "cell_type": "markdown",
      "metadata": {
        "application/vnd.databricks.v1+cell": {
          "cellMetadata": {},
          "inputWidgets": {},
          "nuid": "2ab577c3-a36b-45dd-8126-9788348c076e",
          "showTitle": false,
          "title": ""
        }
      },
      "source": [
        "Next, generate a list of experiments."
      ]
    },
    {
      "cell_type": "code",
      "execution_count": 0,
      "metadata": {
        "application/vnd.databricks.v1+cell": {
          "cellMetadata": {},
          "inputWidgets": {},
          "nuid": "430179b8-0022-4d42-b931-e261da2d1f88",
          "showTitle": false,
          "title": ""
        }
      },
      "outputs": [],
      "source": [
        "client.search_experiments()"
      ]
    },
    {
      "cell_type": "markdown",
      "metadata": {
        "application/vnd.databricks.v1+cell": {
          "cellMetadata": {},
          "inputWidgets": {},
          "nuid": "30b92cd8-3ba8-4863-a2c8-2451675270ee",
          "showTitle": false,
          "title": ""
        }
      },
      "source": [
        "The list above provides information on each experiment, including the origin of the experiment.  Select the experiment you recently created by replacing `expriment_num` below with the appropriate number.  Remember that Python lists are zero-based, so if your experiment is the first in the list, you will want to set `experiment_num` to 0!"
      ]
    },
    {
      "cell_type": "code",
      "execution_count": 0,
      "metadata": {
        "application/vnd.databricks.v1+cell": {
          "cellMetadata": {},
          "inputWidgets": {},
          "nuid": "56b7b813-f901-41cc-b30f-4c4d3658f636",
          "showTitle": false,
          "title": ""
        }
      },
      "outputs": [],
      "source": [
        "# Replace experiment_num with the appropriate experiment number based on the list of experiments above.\n",
        "experiment_num = 0 # FILL IN!\n",
        "\n",
        "experiment_id = client.search_experiments()[experiment_num].experiment_id\n",
        "runs_df = mlflow.search_runs(experiment_id)\n",
        "\n",
        "display(runs_df)"
      ]
    },
    {
      "cell_type": "markdown",
      "metadata": {
        "application/vnd.databricks.v1+cell": {
          "cellMetadata": {},
          "inputWidgets": {},
          "nuid": "80a28d7c-9547-40ee-8296-513b74b30c82",
          "showTitle": false,
          "title": ""
        }
      },
      "source": [
        "The table above includes a variety of information about each run, including details on your logged metrics, the parameters you used, and a variety of system- and user-generated tags.  This makes it easy to export information on an experiment for further analysis.\n",
        "\n",
        "Next, you will retrieve the last run in this experiment as ordered by start time.  It is possible to retrieve information about an individual run.  For example, `data.metrics` will return a JSON set of key-value pairs, one for each saved metric."
      ]
    },
    {
      "cell_type": "code",
      "execution_count": 0,
      "metadata": {
        "application/vnd.databricks.v1+cell": {
          "cellMetadata": {},
          "inputWidgets": {},
          "nuid": "23f6b451-d3d1-4c2d-b4fe-c31006adb1ef",
          "showTitle": false,
          "title": ""
        }
      },
      "outputs": [],
      "source": [
        "runs = client.search_runs(experiment_id, order_by=[\"attributes.start_time desc\"], max_results=1)\n",
        "last_run = runs[0]\n",
        "last_run.data.metrics"
      ]
    },
    {
      "cell_type": "markdown",
      "metadata": {
        "application/vnd.databricks.v1+cell": {
          "cellMetadata": {},
          "inputWidgets": {},
          "nuid": "2f7c5fe7-0f58-48b8-9df9-1355c1d0aeda",
          "showTitle": false,
          "title": ""
        }
      },
      "source": [
        "It is also possible to retrieve model details for a particular run, including loading the model itself.  In this case, you will use the `load_model()` method in `mlflow.spark` to retrieve a Spark model.  The `info.run_uuid` attribute allows us to select the model generated by this particular run.  After we have selected the model, we can use it to generate predictions."
      ]
    },
    {
      "cell_type": "code",
      "execution_count": 0,
      "metadata": {
        "application/vnd.databricks.v1+cell": {
          "cellMetadata": {},
          "inputWidgets": {},
          "nuid": "a1ad88af-9879-4c51-9223-e5174acd7d57",
          "showTitle": false,
          "title": ""
        }
      },
      "outputs": [],
      "source": [
        "%python\n",
        "loaded_model = mlflow.spark.load_model(f\"runs:/{last_run.info.run_uuid}/model\")\n",
        "top_rows = sqlContext.createDataFrame(testData.head(3))\n",
        "display(loaded_model.transform(top_rows))"
      ]
    },
    {
      "cell_type": "code",
      "execution_count": 0,
      "metadata": {
        "application/vnd.databricks.v1+cell": {
          "cellMetadata": {},
          "inputWidgets": {},
          "nuid": "0f99cfe2-b609-46df-90a5-78f2a59e4a1e",
          "showTitle": false,
          "title": ""
        }
      },
      "outputs": [],
      "source": []
    }
  ],
  "metadata": {
    "application/vnd.databricks.v1+notebook": {
      "dashboards": [],
      "language": "python",
      "notebookMetadata": {
        "pythonIndentUnit": 2
      },
      "notebookName": "01 - Using MLflow to Track Experiments",
      "widgets": {}
    }
  },
  "nbformat": 4,
  "nbformat_minor": 0
}
