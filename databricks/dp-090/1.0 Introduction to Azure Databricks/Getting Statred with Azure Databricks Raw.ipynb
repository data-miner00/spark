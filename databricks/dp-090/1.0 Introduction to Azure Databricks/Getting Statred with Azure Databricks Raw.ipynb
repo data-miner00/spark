{
 "cells": [
  {
   "cell_type": "markdown",
   "metadata": {
    "application/vnd.databricks.v1+cell": {
     "cellMetadata": {
      "byteLimit": 2048000,
      "rowLimit": 10000
     },
     "inputWidgets": {},
     "nuid": "aa7f8512-636a-4a4a-8ebc-c76904bc47e6",
     "showTitle": false,
     "title": ""
    }
   },
   "source": [
    "# Getting Started with Azure Databricks\n",
    "\n",
    "**Technical Accomplishments:**\n",
    "- Set the stage for learning on the Databricks platform\n",
    "- Create the cluster\n",
    "- Discover the workspace, import table data\n",
    "- Demonstrate how to develop & execute code within a notebook\n",
    "- Review the various \"Magic Commands\"\n",
    "- Introduce the Databricks File System (DBFS)"
   ]
  },
  {
   "cell_type": "markdown",
   "metadata": {
    "application/vnd.databricks.v1+cell": {
     "cellMetadata": {
      "byteLimit": 2048000,
      "rowLimit": 10000
     },
     "inputWidgets": {},
     "nuid": "c9c278d0-e2ee-4331-a012-52f25cf070b9",
     "showTitle": false,
     "title": ""
    }
   },
   "source": [
    "## Attach notebook to your cluster\n",
    "Before executing any cells in the notebook, you need to attach it to your cluster. Make sure that the cluster is running.\n",
    "\n",
    "In the notebook's toolbar, select the drop down arrow next to Detached, and then select your cluster under Attach to."
   ]
  },
  {
   "cell_type": "markdown",
   "metadata": {
    "application/vnd.databricks.v1+cell": {
     "cellMetadata": {
      "byteLimit": 2048000,
      "rowLimit": 10000
     },
     "inputWidgets": {},
     "nuid": "c628dffa-5e62-4fc1-8ad9-2f39071a7342",
     "showTitle": false,
     "title": ""
    }
   },
   "source": [
    "## Working with notebooks\n",
    "\n",
    "A notebook is a web-based interface to a document that contains \n",
    "* runnable code\n",
    "* visualizations\n",
    "* descriptive text\n",
    "\n",
    "To create a notebook, click on `Workspace`, browse into the desired folder, right click and choose `Create` then select `Notebook`."
   ]
  },
  {
   "cell_type": "markdown",
   "metadata": {
    "application/vnd.databricks.v1+cell": {
     "cellMetadata": {
      "byteLimit": 2048000,
      "rowLimit": 10000
     },
     "inputWidgets": {},
     "nuid": "dffbf78a-0d12-486c-923c-538f584fe30b",
     "showTitle": false,
     "title": ""
    }
   },
   "source": [
    "A notebook contains multiple cells. Each cell has a specific type. \n",
    "\n",
    "A default programming language is configured when creating the notebook and it will be implicitly used for new cells.\n",
    "\n",
    "#### Magic commands\n",
    "\n",
    "We can override the cell's default programming language by using one of the following *magic commands* at the start of the cell:\n",
    "\n",
    "* `%python` for cells running python code\n",
    "* `%scala` for cells running scala code\n",
    "* `%r` for cells running R code\n",
    "* `%sql` for cells running sql code\n",
    "  \n",
    "Additional magic commands are available:\n",
    "\n",
    "* `%md` for descriptive cells using markdown\n",
    "* `%sh` for cells running shell commands\n",
    "* `%run` for cells running code defined in a separate notebook\n",
    "* `%fs` for cells running code that uses `dbutils` commands"
   ]
  },
  {
   "cell_type": "markdown",
   "metadata": {
    "application/vnd.databricks.v1+cell": {
     "cellMetadata": {
      "byteLimit": 2048000,
      "rowLimit": 10000
     },
     "inputWidgets": {},
     "nuid": "1e2d02a1-ef75-4529-83c4-11eab448b18b",
     "showTitle": false,
     "title": ""
    }
   },
   "source": [
    "To run a cell use one of the following options:\n",
    "  * **CTRL+ENTER** or **CMD+RETURN**\n",
    "  * **SHIFT+ENTER** or **SHIFT+RETURN** to run the cell and move to the next one\n",
    "  * Using **Run Cell**, **Run All Above** or **Run All Below** as seen here<br/><img style=\"box-shadow: 5px 5px 5px 0px rgba(0,0,0,0.25); border: 1px solid rgba(0,0,0,0.25);\" src=\"https://files.training.databricks.com/images/notebook-cell-run-cmd.png\"/>"
   ]
  },
  {
   "cell_type": "code",
   "execution_count": 0,
   "metadata": {
    "application/vnd.databricks.v1+cell": {
     "cellMetadata": {
      "byteLimit": 2048000,
      "rowLimit": 10000
     },
     "inputWidgets": {},
     "nuid": "2306a009-75af-43e8-a1aa-4772aea1dbfc",
     "showTitle": false,
     "title": ""
    }
   },
   "outputs": [],
   "source": [
    "#assuming the default language for a notebook was set to Python\n",
    "print(\"I'm running Python!\")"
   ]
  },
  {
   "cell_type": "markdown",
   "metadata": {
    "application/vnd.databricks.v1+cell": {
     "cellMetadata": {
      "byteLimit": 2048000,
      "rowLimit": 10000
     },
     "inputWidgets": {},
     "nuid": "943a4473-38e3-4a52-85dc-e10f5eb59c53",
     "showTitle": false,
     "title": ""
    }
   },
   "source": [
    "Below we use a simple python function to convert Celsius degrees to Fahrenheit degrees."
   ]
  },
  {
   "cell_type": "code",
   "execution_count": 0,
   "metadata": {
    "application/vnd.databricks.v1+cell": {
     "cellMetadata": {
      "byteLimit": 2048000,
      "rowLimit": 10000
     },
     "inputWidgets": {},
     "nuid": "7ef98120-e54b-408f-b90d-1e471ea0f164",
     "showTitle": false,
     "title": ""
    }
   },
   "outputs": [],
   "source": [
    "%python\n",
    "\n",
    "#convert celsius to fahrenheit\n",
    "def celsiusToFahrenheit(source_temp=None):\n",
    "    return(source_temp * (9.0/5.0)) + 32.0    \n",
    "        \n",
    "#input values - celsius\n",
    "a = [1, 2, 3, 4, 5]\n",
    "print(a)\n",
    "\n",
    "#convert all\n",
    "b = map(lambda x: celsiusToFahrenheit(x), a)\n",
    "print(list(b))"
   ]
  },
  {
   "cell_type": "markdown",
   "metadata": {
    "application/vnd.databricks.v1+cell": {
     "cellMetadata": {
      "byteLimit": 2048000,
      "rowLimit": 10000
     },
     "inputWidgets": {},
     "nuid": "4247928f-8ae8-463a-9125-3399c0908773",
     "showTitle": false,
     "title": ""
    }
   },
   "source": [
    "##![Spark Logo Tiny](https://files.training.databricks.com/images/wiki-book/general/logo_spark_tiny.png) Databricks File System - DBFS\n",
    "\n",
    "We've already imported data into Databricks by uploading our files.\n",
    "\n",
    "Databricks is capable of mounting external/remote datasources as well.\n",
    "\n",
    "DBFS allows you to mount storage objects so that you can seamlessly access data without requiring credentials.\n",
    "Allows you to interact with object storage using directory and file semantics instead of storage URLs.\n",
    "Persists files to object storage, so you won’t lose data after you terminate a cluster.\n",
    "\n",
    "* DBFS is a layer over a cloud-based object store\n",
    "* Files in DBFS are persisted to the object store\n",
    "* The lifetime of files in the DBFS are **NOT** tied to the lifetime of our cluster\n",
    "\n",
    "See also <a href=\"https://docs.azuredatabricks.net/user-guide/dbfs-databricks-file-system.html\" target=\"_blank\">Databricks File System - DBFS</a>."
   ]
  },
  {
   "cell_type": "markdown",
   "metadata": {
    "application/vnd.databricks.v1+cell": {
     "cellMetadata": {
      "byteLimit": 2048000,
      "rowLimit": 10000
     },
     "inputWidgets": {},
     "nuid": "a46f1fb7-4ba7-496c-a2b2-50a4fa9d3644",
     "showTitle": false,
     "title": ""
    }
   },
   "source": [
    "### Databricks Utilities - dbutils\n",
    "* You can access the DBFS through the Databricks Utilities class (and other file IO routines).\n",
    "* An instance of DBUtils is already declared for us as `dbutils`."
   ]
  },
  {
   "cell_type": "markdown",
   "metadata": {
    "application/vnd.databricks.v1+cell": {
     "cellMetadata": {
      "byteLimit": 2048000,
      "rowLimit": 10000
     },
     "inputWidgets": {},
     "nuid": "036f1f37-2be0-4206-869e-9ba614c44df0",
     "showTitle": false,
     "title": ""
    }
   },
   "source": [
    "The `mount` command allows to use remote storage as if it were a local folder available in the Databricks workspace\n",
    "\n",
    "```\n",
    "dbutils.fs.mount(\n",
    "  source = f\"wasbs://dev@{data_storage_account_name}.blob.core.windows.net\",\n",
    "  mount_point = data_mount_point,\n",
    "  extra_configs = {f\"fs.azure.account.key.{data_storage_account_name}.blob.core.windows.net\": data_storage_account_key})\n",
    "```"
   ]
  },
  {
   "cell_type": "markdown",
   "metadata": {
    "application/vnd.databricks.v1+cell": {
     "cellMetadata": {
      "byteLimit": 2048000,
      "rowLimit": 10000
     },
     "inputWidgets": {},
     "nuid": "06c2121e-3eb4-4b3f-a51d-1e61b42a1750",
     "showTitle": false,
     "title": ""
    }
   },
   "source": [
    "To show available DBFS mounts:"
   ]
  },
  {
   "cell_type": "code",
   "execution_count": 0,
   "metadata": {
    "application/vnd.databricks.v1+cell": {
     "cellMetadata": {
      "byteLimit": 2048000,
      "rowLimit": 10000
     },
     "inputWidgets": {},
     "nuid": "f64aad4c-7a8a-45b2-b964-db0d7d2f3cd3",
     "showTitle": false,
     "title": ""
    }
   },
   "outputs": [],
   "source": [
    "%fs \n",
    "mounts"
   ]
  },
  {
   "cell_type": "markdown",
   "metadata": {
    "application/vnd.databricks.v1+cell": {
     "cellMetadata": {
      "byteLimit": 2048000,
      "rowLimit": 10000
     },
     "inputWidgets": {},
     "nuid": "9e07b625-80b6-4415-8b7c-8e2117e71457",
     "showTitle": false,
     "title": ""
    }
   },
   "source": [
    "To show available tables:"
   ]
  },
  {
   "cell_type": "code",
   "execution_count": 0,
   "metadata": {
    "application/vnd.databricks.v1+cell": {
     "cellMetadata": {
      "byteLimit": 2048000,
      "rowLimit": 10000
     },
     "inputWidgets": {},
     "nuid": "2926763d-1f92-4404-8bf7-41ab5f773839",
     "showTitle": false,
     "title": ""
    }
   },
   "outputs": [],
   "source": [
    "%fs\n",
    "ls user/hive/warehouse/nyc_taxi"
   ]
  },
  {
   "cell_type": "markdown",
   "metadata": {
    "application/vnd.databricks.v1+cell": {
     "cellMetadata": {
      "byteLimit": 2048000,
      "rowLimit": 10000
     },
     "inputWidgets": {},
     "nuid": "1dba4fc4-c188-4486-a026-b3cc2efa0fbe",
     "showTitle": false,
     "title": ""
    }
   },
   "source": [
    "Additional help is available via `dbutils.help()` and for each sub-utility: `dbutils.fs.help()`, `dbutils.meta.help()`, `dbutils.notebook.help()`, `dbutils.widgets.help()`.\n",
    "\n",
    "See also <a href=\"https://docs.azuredatabricks.net/user-guide/dbutils.html\" target=\"_blank\">Databricks Utilities - dbutils</a>"
   ]
  },
  {
   "cell_type": "code",
   "execution_count": 0,
   "metadata": {
    "application/vnd.databricks.v1+cell": {
     "cellMetadata": {
      "byteLimit": 2048000,
      "rowLimit": 10000
     },
     "inputWidgets": {},
     "nuid": "7afaca37-f48f-4ab5-9b26-5b723a1fc369",
     "showTitle": false,
     "title": ""
    }
   },
   "outputs": [],
   "source": [
    "dbutils.fs.help()"
   ]
  }
 ],
 "metadata": {
  "application/vnd.databricks.v1+notebook": {
   "dashboards": [],
   "language": "python",
   "notebookMetadata": {
    "mostRecentlyExecutedCommandWithImplicitDF": {
     "commandId": 245428210011648,
     "dataframes": [
      "_sqldf"
     ]
    },
    "pythonIndentUnit": 2
   },
   "notebookName": "Getting Started with Azure Databricks",
   "widgets": {}
  },
  "kernelspec": {
   "display_name": "Python 3 (ipykernel)",
   "language": "python",
   "name": "python3"
  },
  "language_info": {
   "codemirror_mode": {
    "name": "ipython",
    "version": 3
   },
   "file_extension": ".py",
   "mimetype": "text/x-python",
   "name": "python",
   "nbconvert_exporter": "python",
   "pygments_lexer": "ipython3",
   "version": "3.10.0"
  }
 },
 "nbformat": 4,
 "nbformat_minor": 1
}
