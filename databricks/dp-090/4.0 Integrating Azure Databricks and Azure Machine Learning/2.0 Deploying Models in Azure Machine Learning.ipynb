{
  "cells": [
    {
      "cell_type": "markdown",
      "metadata": {
        "application/vnd.databricks.v1+cell": {
          "cellMetadata": {},
          "inputWidgets": {},
          "nuid": "d0a02eff-ba56-4caa-bd7a-7dc3263a9055",
          "showTitle": false,
          "title": ""
        }
      },
      "source": [
        "# Deploying Models in Azure Machine Learning\n",
        "\n",
        "In this lab, you will learn to deploy models in Azure Machine Learning. This lab will cover following exercises:\n",
        "\n",
        "- Exercise 1: Register a databricks-trained model in AML\n",
        "- Exercise 2: Deploy a service that uses the model\n",
        "- Exercise 3: Consume the deployed service\n",
        "\n",
        "To install the required libraries please follow the instructions in the lab guide.\n",
        "\n",
        "**Required Libraries**: \n",
        "* `azureml-sdk[databricks]` via PyPI\n",
        "* `sklearn-pandas==2.1.0` via PyPI\n",
        "* `azureml-mlflow` via PyPI"
      ]
    },
    {
      "cell_type": "code",
      "execution_count": 0,
      "metadata": {
        "application/vnd.databricks.v1+cell": {
          "cellMetadata": {},
          "inputWidgets": {},
          "nuid": "2a97557e-e199-4aab-a4d1-0095a91b1ac6",
          "showTitle": false,
          "title": ""
        }
      },
      "outputs": [
        {
          "output_type": "display_data",
          "data": {
            "text/html": [
              "<style scoped>\n",
              "  .ansiout {\n",
              "    display: block;\n",
              "    unicode-bidi: embed;\n",
              "    white-space: pre-wrap;\n",
              "    word-wrap: break-word;\n",
              "    word-break: break-all;\n",
              "    font-family: \"Source Code Pro\", \"Menlo\", monospace;;\n",
              "    font-size: 13px;\n",
              "    color: #555;\n",
              "    margin-left: 4px;\n",
              "    line-height: 19px;\n",
              "  }\n",
              "</style>"
            ]
          },
          "metadata": {
            "application/vnd.databricks.v1+output": {
              "arguments": {},
              "data": "",
              "errorSummary": "",
              "errorTraceType": null,
              "metadata": {},
              "type": "ipynbError"
            }
          },
          "output_type": "display_data"
        }
      ],
      "source": [
        "import os\n",
        "import numpy as np\n",
        "import pandas as pd\n",
        "import pickle\n",
        "import sklearn\n",
        "import joblib\n",
        "import math\n",
        "\n",
        "from sklearn.model_selection import train_test_split\n",
        "from sklearn.ensemble import GradientBoostingRegressor\n",
        "from sklearn.pipeline import Pipeline\n",
        "from sklearn.impute import SimpleImputer\n",
        "from sklearn.preprocessing import StandardScaler, OneHotEncoder\n",
        "from sklearn_pandas import DataFrameMapper\n",
        "from sklearn.metrics import mean_squared_error, mean_absolute_error, r2_score\n",
        "\n",
        "import matplotlib\n",
        "import matplotlib.pyplot as plt\n",
        "\n",
        "import azureml\n",
        "from azureml.core import Workspace, Experiment, Run\n",
        "from azureml.core.model import Model\n",
        "\n",
        "print('The azureml.core version is {}'.format(azureml.core.VERSION))"
      ]
    },
    {
      "cell_type": "markdown",
      "metadata": {
        "application/vnd.databricks.v1+cell": {
          "cellMetadata": {},
          "inputWidgets": {},
          "nuid": "f830e135-56ef-470d-bde3-77f1b2a740a0",
          "showTitle": false,
          "title": ""
        }
      },
      "source": [
        "### Connect to the AML workspace"
      ]
    },
    {
      "cell_type": "markdown",
      "metadata": {
        "application/vnd.databricks.v1+cell": {
          "cellMetadata": {},
          "inputWidgets": {},
          "nuid": "080e5e04-10dd-418b-be96-79f048a2e7d9",
          "showTitle": false,
          "title": ""
        }
      },
      "source": [
        "In the following cell, be sure to set the values for `subscription_id`, `resource_group`, and `workspace_name` as directed by the comments. Please note, you can copy the subscription ID and resource group name from the **Overview** page on the blade for the Azure ML workspace in the Azure portal."
      ]
    },
    {
      "cell_type": "code",
      "execution_count": 0,
      "metadata": {
        "application/vnd.databricks.v1+cell": {
          "cellMetadata": {},
          "inputWidgets": {},
          "nuid": "925c1b9c-0c80-4771-8171-a41cbf3b0498",
          "showTitle": false,
          "title": ""
        }
      },
      "outputs": [
        {
          "output_type": "display_data",
          "data": {
            "text/html": [
              "<style scoped>\n",
              "  .ansiout {\n",
              "    display: block;\n",
              "    unicode-bidi: embed;\n",
              "    white-space: pre-wrap;\n",
              "    word-wrap: break-word;\n",
              "    word-break: break-all;\n",
              "    font-family: \"Source Code Pro\", \"Menlo\", monospace;;\n",
              "    font-size: 13px;\n",
              "    color: #555;\n",
              "    margin-left: 4px;\n",
              "    line-height: 19px;\n",
              "  }\n",
              "</style>"
            ]
          },
          "metadata": {
            "application/vnd.databricks.v1+output": {
              "arguments": {},
              "data": "",
              "errorSummary": "",
              "errorTraceType": null,
              "metadata": {},
              "type": "ipynbError"
            }
          },
          "output_type": "display_data"
        }
      ],
      "source": [
        "#Provide the Subscription ID of your existing Azure subscription\n",
        "subscription_id = \"XXX-XXXX-XXXX-XXXX-XXXX\"\n",
        "\n",
        "#Replace the name below with the name of your resource group\n",
        "resource_group = \"XXX\"\n",
        "\n",
        "#Replace the name below with the name of your Azure Machine Learning workspace\n",
        "workspace_name = \"aml-ws\"\n",
        "\n",
        "print(\"subscription_id:\", subscription_id)\n",
        "print(\"resource_group:\", resource_group)\n",
        "print(\"workspace_name:\", workspace_name)"
      ]
    },
    {
      "cell_type": "markdown",
      "metadata": {
        "application/vnd.databricks.v1+cell": {
          "cellMetadata": {},
          "inputWidgets": {},
          "nuid": "ea4e1c7e-3561-4bb1-9e27-f6b8343b136f",
          "showTitle": false,
          "title": ""
        }
      },
      "source": [
        "**Important Note**: You will be prompted to login in the text that is output below the cell. Be sure to navigate to the URL displayed and enter the code that is provided. Once you have entered the code, return to this notebook and wait for the output to read `Workspace configuration succeeded`.\n",
        "\n",
        "*Also note that the sign-on link and code only appear the first time in a session. If an authenticated session is already established, you won't be prompted to enter the code and authenticate when creating an instance of the Workspace.*"
      ]
    },
    {
      "cell_type": "code",
      "execution_count": 0,
      "metadata": {
        "application/vnd.databricks.v1+cell": {
          "cellMetadata": {},
          "inputWidgets": {},
          "nuid": "dfd43933-a2bf-44a7-85ae-9dc0e9543982",
          "showTitle": false,
          "title": ""
        }
      },
      "outputs": [
        {
          "output_type": "display_data",
          "data": {
            "text/html": [
              "<style scoped>\n",
              "  .ansiout {\n",
              "    display: block;\n",
              "    unicode-bidi: embed;\n",
              "    white-space: pre-wrap;\n",
              "    word-wrap: break-word;\n",
              "    word-break: break-all;\n",
              "    font-family: \"Source Code Pro\", \"Menlo\", monospace;;\n",
              "    font-size: 13px;\n",
              "    color: #555;\n",
              "    margin-left: 4px;\n",
              "    line-height: 19px;\n",
              "  }\n",
              "</style>"
            ]
          },
          "metadata": {
            "application/vnd.databricks.v1+output": {
              "arguments": {},
              "data": "",
              "errorSummary": "",
              "errorTraceType": null,
              "metadata": {},
              "type": "ipynbError"
            }
          },
          "output_type": "display_data"
        }
      ],
      "source": [
        "ws = Workspace(subscription_id, resource_group, workspace_name)\n",
        "print(ws)\n",
        "print('Workspace region:', ws.location)\n",
        "print('Workspace configuration succeeded')"
      ]
    },
    {
      "cell_type": "markdown",
      "metadata": {
        "application/vnd.databricks.v1+cell": {
          "cellMetadata": {},
          "inputWidgets": {},
          "nuid": "a8dbd14a-b8c5-44e7-8ebb-8390864e1d48",
          "showTitle": false,
          "title": ""
        }
      },
      "source": [
        "### Load the training data\n",
        "\n",
        "In this notebook, we will be using a subset of NYC Taxi & Limousine Commission - green taxi trip records available from [Azure Open Datasets]( https://azure.microsoft.com/en-us/services/open-datasets/). The data is enriched with holiday and weather data. Each row of the table represents a taxi ride that includes columns such as number of passengers, trip distance, datetime information, holiday and weather information, and the taxi fare for the trip.\n",
        "\n",
        "Run the following cell to load the table into a Spark dataframe and reivew the dataframe."
      ]
    },
    {
      "cell_type": "code",
      "execution_count": 0,
      "metadata": {
        "application/vnd.databricks.v1+cell": {
          "cellMetadata": {},
          "inputWidgets": {},
          "nuid": "5864441e-83ed-4635-a8c5-04582b0c8f42",
          "showTitle": false,
          "title": ""
        }
      },
      "outputs": [
        {
          "output_type": "display_data",
          "data": {
            "text/html": [
              "<style scoped>\n",
              "  .ansiout {\n",
              "    display: block;\n",
              "    unicode-bidi: embed;\n",
              "    white-space: pre-wrap;\n",
              "    word-wrap: break-word;\n",
              "    word-break: break-all;\n",
              "    font-family: \"Source Code Pro\", \"Menlo\", monospace;;\n",
              "    font-size: 13px;\n",
              "    color: #555;\n",
              "    margin-left: 4px;\n",
              "    line-height: 19px;\n",
              "  }\n",
              "</style>"
            ]
          },
          "metadata": {
            "application/vnd.databricks.v1+output": {
              "arguments": {},
              "data": "",
              "errorSummary": "",
              "errorTraceType": null,
              "metadata": {},
              "type": "ipynbError"
            }
          },
          "output_type": "display_data"
        }
      ],
      "source": [
        "dataset = spark.sql(\"select * from nyc_taxi\").toPandas()\n",
        "display(dataset)"
      ]
    },
    {
      "cell_type": "markdown",
      "metadata": {
        "application/vnd.databricks.v1+cell": {
          "cellMetadata": {},
          "inputWidgets": {},
          "nuid": "927480ac-0bb6-47b4-a73c-32fa1f4767c9",
          "showTitle": false,
          "title": ""
        }
      },
      "source": [
        "### Use MLflow with Azure Machine Learning for Model Training\n",
        "\n",
        "In the subsequent cells you will learn to do the following:\n",
        "- Set up MLflow tracking URI so as to use Azure ML\n",
        "- Create MLflow experiment – this will create a corresponding experiment in Azure ML Workspace\n",
        "- Train a model on Azure Databricks cluster while logging metrics and artifacts using MLflow\n",
        "- Save the trained model to Databricks File System (DBFS)"
      ]
    },
    {
      "cell_type": "code",
      "execution_count": 0,
      "metadata": {
        "application/vnd.databricks.v1+cell": {
          "cellMetadata": {},
          "inputWidgets": {},
          "nuid": "765a2d26-3878-4dc7-9c41-3492aa320611",
          "showTitle": false,
          "title": ""
        }
      },
      "outputs": [
        {
          "output_type": "display_data",
          "data": {
            "text/html": [
              "<style scoped>\n",
              "  .ansiout {\n",
              "    display: block;\n",
              "    unicode-bidi: embed;\n",
              "    white-space: pre-wrap;\n",
              "    word-wrap: break-word;\n",
              "    word-break: break-all;\n",
              "    font-family: \"Source Code Pro\", \"Menlo\", monospace;;\n",
              "    font-size: 13px;\n",
              "    color: #555;\n",
              "    margin-left: 4px;\n",
              "    line-height: 19px;\n",
              "  }\n",
              "</style>"
            ]
          },
          "metadata": {
            "application/vnd.databricks.v1+output": {
              "arguments": {},
              "data": "",
              "errorSummary": "",
              "errorTraceType": null,
              "metadata": {},
              "type": "ipynbError"
            }
          },
          "output_type": "display_data"
        }
      ],
      "source": [
        "import mlflow\n",
        "mlflow.set_tracking_uri(ws.get_mlflow_tracking_uri())\n",
        "experiment_name = 'MLflow-AML-Exercise'\n",
        "mlflow.set_experiment(experiment_name)\n",
        "\n",
        "print(\"Training model...\")\n",
        "output_folder = 'outputs'\n",
        "model_file_name = 'nyc-taxi.pkl'\n",
        "dbutils.fs.mkdirs(output_folder)\n",
        "model_file_path = os.path.join('/dbfs', output_folder, model_file_name)\n",
        "\n",
        "with mlflow.start_run() as run:\n",
        "  df = dataset.dropna(subset=['totalAmount'])\n",
        "  x_df = df.drop(['totalAmount'], axis=1)\n",
        "  y_df = df['totalAmount']\n",
        "\n",
        "  X_train, X_test, y_train, y_test = train_test_split(x_df, y_df, test_size=0.2, random_state=0)\n",
        "\n",
        "  numerical = ['passengerCount', 'tripDistance', 'snowDepth', 'precipTime', 'precipDepth', 'temperature']\n",
        "  categorical = ['hour_of_day', 'day_of_week', 'month_num', 'normalizeHolidayName', 'isPaidTimeOff']\n",
        "\n",
        "  numeric_transformations = [([f], Pipeline(steps=[\n",
        "    ('imputer', SimpleImputer(strategy='median')),\n",
        "    ('scaler', StandardScaler())])) for f in numerical]\n",
        "    \n",
        "  categorical_transformations = [([f], OneHotEncoder(handle_unknown='ignore', sparse=False)) for f in categorical]\n",
        "\n",
        "  transformations = numeric_transformations + categorical_transformations\n",
        "\n",
        "  clf = Pipeline(steps=[('preprocessor', DataFrameMapper(transformations, df_out=True)), \n",
        "                        ('regressor', GradientBoostingRegressor())])\n",
        "\n",
        "  clf.fit(X_train, y_train)\n",
        "  \n",
        "  y_predict = clf.predict(X_test)\n",
        "  y_actual = y_test.values.flatten().tolist()\n",
        "  \n",
        "  rmse = math.sqrt(mean_squared_error(y_actual, y_predict))\n",
        "  mlflow.log_metric('rmse', rmse)\n",
        "  mae = mean_absolute_error(y_actual, y_predict)\n",
        "  mlflow.log_metric('mae', mae)\n",
        "  r2 = r2_score(y_actual, y_predict)\n",
        "  mlflow.log_metric('R2 score', r2)\n",
        "  \n",
        "  plt.figure(figsize=(10,10))\n",
        "  plt.scatter(y_actual, y_predict, c='crimson')\n",
        "  plt.yscale('log')\n",
        "  plt.xscale('log')\n",
        "\n",
        "  p1 = max(max(y_predict), max(y_actual))\n",
        "  p2 = min(min(y_predict), min(y_actual))\n",
        "  plt.plot([p1, p2], [p1, p2], 'b-')\n",
        "  plt.xlabel('True Values', fontsize=15)\n",
        "  plt.ylabel('Predictions', fontsize=15)\n",
        "  plt.axis('equal')\n",
        "  \n",
        "  results_graph = os.path.join('/dbfs', output_folder, 'results.png')\n",
        "  plt.savefig(results_graph)\n",
        "  mlflow.log_artifact(results_graph)\n",
        "  \n",
        "  joblib.dump(clf, open(model_file_path,'wb'))\n",
        "  mlflow.log_artifact(model_file_path)"
      ]
    },
    {
      "cell_type": "markdown",
      "metadata": {
        "application/vnd.databricks.v1+cell": {
          "cellMetadata": {},
          "inputWidgets": {},
          "nuid": "12556aec-6ef5-43b8-8c18-df15ef12597d",
          "showTitle": false,
          "title": ""
        }
      },
      "source": [
        "Run the cell below to list the experiment run in Azure Machine Learning Workspace that you just completed."
      ]
    },
    {
      "cell_type": "code",
      "execution_count": 0,
      "metadata": {
        "application/vnd.databricks.v1+cell": {
          "cellMetadata": {},
          "inputWidgets": {},
          "nuid": "4531c990-6e47-40ac-b902-679014bdb0cf",
          "showTitle": false,
          "title": ""
        }
      },
      "outputs": [
        {
          "output_type": "display_data",
          "data": {
            "text/html": [
              "<style scoped>\n",
              "  .ansiout {\n",
              "    display: block;\n",
              "    unicode-bidi: embed;\n",
              "    white-space: pre-wrap;\n",
              "    word-wrap: break-word;\n",
              "    word-break: break-all;\n",
              "    font-family: \"Source Code Pro\", \"Menlo\", monospace;;\n",
              "    font-size: 13px;\n",
              "    color: #555;\n",
              "    margin-left: 4px;\n",
              "    line-height: 19px;\n",
              "  }\n",
              "</style>"
            ]
          },
          "metadata": {
            "application/vnd.databricks.v1+output": {
              "arguments": {},
              "data": "",
              "errorSummary": "",
              "errorTraceType": null,
              "metadata": {},
              "type": "ipynbError"
            }
          },
          "output_type": "display_data"
        }
      ],
      "source": [
        "aml_run = list(ws.experiments[experiment_name].get_runs())[0]\n",
        "aml_run"
      ]
    },
    {
      "cell_type": "markdown",
      "metadata": {
        "application/vnd.databricks.v1+cell": {
          "cellMetadata": {},
          "inputWidgets": {},
          "nuid": "70c83220-dd3c-46b4-aad0-b9dee31e173a",
          "showTitle": false,
          "title": ""
        }
      },
      "source": [
        "## Exercise 1: Register a databricks-trained model in AML\n",
        "\n",
        "Azure Machine Learning provides a Model Registry that acts like a version controlled repository for each of your trained models. To version a model, you use the SDK as follows. Run the following cell to register the model with Azure Machine Learning."
      ]
    },
    {
      "cell_type": "code",
      "execution_count": 0,
      "metadata": {
        "application/vnd.databricks.v1+cell": {
          "cellMetadata": {},
          "inputWidgets": {},
          "nuid": "f0ba07b8-b8f8-44ef-a400-64cf5755715c",
          "showTitle": false,
          "title": ""
        }
      },
      "outputs": [
        {
          "output_type": "display_data",
          "data": {
            "text/html": [
              "<style scoped>\n",
              "  .ansiout {\n",
              "    display: block;\n",
              "    unicode-bidi: embed;\n",
              "    white-space: pre-wrap;\n",
              "    word-wrap: break-word;\n",
              "    word-break: break-all;\n",
              "    font-family: \"Source Code Pro\", \"Menlo\", monospace;;\n",
              "    font-size: 13px;\n",
              "    color: #555;\n",
              "    margin-left: 4px;\n",
              "    line-height: 19px;\n",
              "  }\n",
              "</style>"
            ]
          },
          "metadata": {
            "application/vnd.databricks.v1+output": {
              "arguments": {},
              "data": "",
              "errorSummary": "",
              "errorTraceType": null,
              "metadata": {},
              "type": "ipynbError"
            }
          },
          "output_type": "display_data"
        }
      ],
      "source": [
        "model_name = 'nyc-taxi-fare'\n",
        "model_description = 'Model to predict taxi fares in NYC.'\n",
        "model_tags = {\"Type\": \"GradientBoostingRegressor\", \n",
        "              \"Run ID\": aml_run.id, \n",
        "              \"Metrics\": aml_run.get_metrics()}\n",
        "\n",
        "registered_model = Model.register(model_path=model_file_path, #Path to the saved model file\n",
        "                                  model_name=model_name, \n",
        "                                  tags=model_tags, \n",
        "                                  description=model_description, \n",
        "                                  workspace=ws)\n",
        "\n",
        "print(registered_model)"
      ]
    },
    {
      "cell_type": "markdown",
      "metadata": {
        "application/vnd.databricks.v1+cell": {
          "cellMetadata": {},
          "inputWidgets": {},
          "nuid": "6d0793d8-8502-44ea-a082-e6cfe11abe3f",
          "showTitle": false,
          "title": ""
        }
      },
      "source": [
        "## Exercise 2: Deploy a service that uses the model"
      ]
    },
    {
      "cell_type": "markdown",
      "metadata": {
        "application/vnd.databricks.v1+cell": {
          "cellMetadata": {},
          "inputWidgets": {},
          "nuid": "8a6d2f1b-a288-4ac0-9ef8-6a726b904937",
          "showTitle": false,
          "title": ""
        }
      },
      "source": [
        "### Create the scoring script"
      ]
    },
    {
      "cell_type": "code",
      "execution_count": 0,
      "metadata": {
        "application/vnd.databricks.v1+cell": {
          "cellMetadata": {},
          "inputWidgets": {},
          "nuid": "b21c323c-deb1-4d7a-8302-dd939b32871d",
          "showTitle": false,
          "title": ""
        }
      },
      "outputs": [
        {
          "output_type": "display_data",
          "data": {
            "text/html": [
              "<style scoped>\n",
              "  .ansiout {\n",
              "    display: block;\n",
              "    unicode-bidi: embed;\n",
              "    white-space: pre-wrap;\n",
              "    word-wrap: break-word;\n",
              "    word-break: break-all;\n",
              "    font-family: \"Source Code Pro\", \"Menlo\", monospace;;\n",
              "    font-size: 13px;\n",
              "    color: #555;\n",
              "    margin-left: 4px;\n",
              "    line-height: 19px;\n",
              "  }\n",
              "</style>"
            ]
          },
          "metadata": {
            "application/vnd.databricks.v1+output": {
              "arguments": {},
              "data": "",
              "errorSummary": "",
              "errorTraceType": null,
              "metadata": {},
              "type": "ipynbError"
            }
          },
          "output_type": "display_data"
        }
      ],
      "source": [
        "script_dir = 'scripts'\n",
        "dbutils.fs.mkdirs(script_dir)\n",
        "script_dir_path = os.path.join('/dbfs', script_dir)\n",
        "print(\"Script directory path:\", script_dir_path)"
      ]
    },
    {
      "cell_type": "code",
      "execution_count": 0,
      "metadata": {
        "application/vnd.databricks.v1+cell": {
          "cellMetadata": {},
          "inputWidgets": {},
          "nuid": "cd593ad9-bf08-4d0c-a6d4-584bfe4ae866",
          "showTitle": false,
          "title": ""
        }
      },
      "outputs": [
        {
          "output_type": "display_data",
          "data": {
            "text/html": [
              "<style scoped>\n",
              "  .ansiout {\n",
              "    display: block;\n",
              "    unicode-bidi: embed;\n",
              "    white-space: pre-wrap;\n",
              "    word-wrap: break-word;\n",
              "    word-break: break-all;\n",
              "    font-family: \"Source Code Pro\", \"Menlo\", monospace;;\n",
              "    font-size: 13px;\n",
              "    color: #555;\n",
              "    margin-left: 4px;\n",
              "    line-height: 19px;\n",
              "  }\n",
              "</style>"
            ]
          },
          "metadata": {
            "application/vnd.databricks.v1+output": {
              "arguments": {},
              "data": "",
              "errorSummary": "",
              "errorTraceType": null,
              "metadata": {},
              "type": "ipynbError"
            }
          },
          "output_type": "display_data"
        }
      ],
      "source": [
        "%%writefile $script_dir_path/score.py\n",
        "import json\n",
        "import numpy as np\n",
        "import pandas as pd\n",
        "import sklearn\n",
        "import joblib\n",
        "from azureml.core.model import Model\n",
        "\n",
        "columns = ['passengerCount', 'tripDistance', 'hour_of_day', 'day_of_week', \n",
        "           'month_num', 'normalizeHolidayName', 'isPaidTimeOff', 'snowDepth', \n",
        "           'precipTime', 'precipDepth', 'temperature']\n",
        "\n",
        "def init():\n",
        "    global model\n",
        "    model_path = Model.get_model_path('nyc-taxi-fare')\n",
        "    model = joblib.load(model_path)\n",
        "    print('model loaded')\n",
        "\n",
        "def run(input_json):\n",
        "    # Get predictions and explanations for each data point\n",
        "    inputs = json.loads(input_json)\n",
        "    data_df = pd.DataFrame(np.array(inputs).reshape(-1, len(columns)), columns = columns)\n",
        "    # Make prediction\n",
        "    predictions = model.predict(data_df)\n",
        "    # You can return any data type as long as it is JSON-serializable\n",
        "    return {'predictions': predictions.tolist()}"
      ]
    },
    {
      "cell_type": "markdown",
      "metadata": {
        "application/vnd.databricks.v1+cell": {
          "cellMetadata": {},
          "inputWidgets": {},
          "nuid": "cdae48cb-ac6f-46bb-8d9c-8cfe2d45c672",
          "showTitle": false,
          "title": ""
        }
      },
      "source": [
        "### Create the deployment environment"
      ]
    },
    {
      "cell_type": "code",
      "execution_count": 0,
      "metadata": {
        "application/vnd.databricks.v1+cell": {
          "cellMetadata": {},
          "inputWidgets": {},
          "nuid": "5fb394f8-e813-48a7-9f65-5058865f6a85",
          "showTitle": false,
          "title": ""
        }
      },
      "outputs": [
        {
          "output_type": "display_data",
          "data": {
            "text/html": [
              "<style scoped>\n",
              "  .ansiout {\n",
              "    display: block;\n",
              "    unicode-bidi: embed;\n",
              "    white-space: pre-wrap;\n",
              "    word-wrap: break-word;\n",
              "    word-break: break-all;\n",
              "    font-family: \"Source Code Pro\", \"Menlo\", monospace;;\n",
              "    font-size: 13px;\n",
              "    color: #555;\n",
              "    margin-left: 4px;\n",
              "    line-height: 19px;\n",
              "  }\n",
              "</style>"
            ]
          },
          "metadata": {
            "application/vnd.databricks.v1+output": {
              "arguments": {},
              "data": "",
              "errorSummary": "",
              "errorTraceType": null,
              "metadata": {},
              "type": "ipynbError"
            }
          },
          "output_type": "display_data"
        }
      ],
      "source": [
        "from azureml.core import Environment\n",
        "from azureml.core.environment import CondaDependencies\n",
        "\n",
        "my_env_name=\"nyc-taxi-env\"\n",
        "myenv = Environment.get(workspace=ws, name='AzureML-Minimal').clone(my_env_name)\n",
        "conda_dep = CondaDependencies()\n",
        "conda_dep.add_pip_package(\"numpy==1.18.1\")\n",
        "conda_dep.add_pip_package(\"pandas==1.1.5\")\n",
        "conda_dep.add_pip_package(\"joblib==0.14.1\")\n",
        "conda_dep.add_pip_package(\"scikit-learn==0.24.1\")\n",
        "conda_dep.add_pip_package(\"sklearn-pandas==2.1.0\")\n",
        "conda_dep.add_pip_package(\"azure-ml-api-sdk\")\n",
        "myenv.python.conda_dependencies=conda_dep\n",
        "\n",
        "print(\"Review the deployment environment.\")\n",
        "myenv"
      ]
    },
    {
      "cell_type": "markdown",
      "metadata": {
        "application/vnd.databricks.v1+cell": {
          "cellMetadata": {},
          "inputWidgets": {},
          "nuid": "52836ffa-4262-44f0-829d-86453a810763",
          "showTitle": false,
          "title": ""
        }
      },
      "source": [
        "### Create the inference configuration"
      ]
    },
    {
      "cell_type": "code",
      "execution_count": 0,
      "metadata": {
        "application/vnd.databricks.v1+cell": {
          "cellMetadata": {},
          "inputWidgets": {},
          "nuid": "c01abc62-75b5-483c-bd39-14e3edf47ea3",
          "showTitle": false,
          "title": ""
        }
      },
      "outputs": [
        {
          "output_type": "display_data",
          "data": {
            "text/html": [
              "<style scoped>\n",
              "  .ansiout {\n",
              "    display: block;\n",
              "    unicode-bidi: embed;\n",
              "    white-space: pre-wrap;\n",
              "    word-wrap: break-word;\n",
              "    word-break: break-all;\n",
              "    font-family: \"Source Code Pro\", \"Menlo\", monospace;;\n",
              "    font-size: 13px;\n",
              "    color: #555;\n",
              "    margin-left: 4px;\n",
              "    line-height: 19px;\n",
              "  }\n",
              "</style>"
            ]
          },
          "metadata": {
            "application/vnd.databricks.v1+output": {
              "arguments": {},
              "data": "",
              "errorSummary": "",
              "errorTraceType": null,
              "metadata": {},
              "type": "ipynbError"
            }
          },
          "output_type": "display_data"
        }
      ],
      "source": [
        "from azureml.core.model import InferenceConfig\n",
        "inference_config = InferenceConfig(entry_script='score.py', source_directory=script_dir_path, environment=myenv)\n",
        "print(\"InferenceConfig created.\")"
      ]
    },
    {
      "cell_type": "markdown",
      "metadata": {
        "application/vnd.databricks.v1+cell": {
          "cellMetadata": {},
          "inputWidgets": {},
          "nuid": "402905a8-1dd1-4b8c-8858-974e840d7068",
          "showTitle": false,
          "title": ""
        }
      },
      "source": [
        "### Create the deployment configuration\n",
        "\n",
        "In this exercise we will use the Azure Container Instance (ACI) to deploy the model"
      ]
    },
    {
      "cell_type": "code",
      "execution_count": 0,
      "metadata": {
        "application/vnd.databricks.v1+cell": {
          "cellMetadata": {},
          "inputWidgets": {},
          "nuid": "2131e772-5802-4f4c-8d8a-0044be5f3515",
          "showTitle": false,
          "title": ""
        }
      },
      "outputs": [
        {
          "output_type": "display_data",
          "data": {
            "text/html": [
              "<style scoped>\n",
              "  .ansiout {\n",
              "    display: block;\n",
              "    unicode-bidi: embed;\n",
              "    white-space: pre-wrap;\n",
              "    word-wrap: break-word;\n",
              "    word-break: break-all;\n",
              "    font-family: \"Source Code Pro\", \"Menlo\", monospace;;\n",
              "    font-size: 13px;\n",
              "    color: #555;\n",
              "    margin-left: 4px;\n",
              "    line-height: 19px;\n",
              "  }\n",
              "</style>"
            ]
          },
          "metadata": {
            "application/vnd.databricks.v1+output": {
              "arguments": {},
              "data": "",
              "errorSummary": "",
              "errorTraceType": null,
              "metadata": {},
              "type": "ipynbError"
            }
          },
          "output_type": "display_data"
        }
      ],
      "source": [
        "from azureml.core.webservice import AciWebservice, Webservice\n",
        "\n",
        "description = 'NYC Taxi Fare Predictor Service'\n",
        "\n",
        "aci_config = AciWebservice.deploy_configuration(\n",
        "                        cpu_cores=3, \n",
        "                        memory_gb=15, \n",
        "                        location='eastus', \n",
        "                        description=description, \n",
        "                        auth_enabled=True, \n",
        "                        tags = {'name': 'ACI container', \n",
        "                                'model_name': registered_model.name, \n",
        "                                'model_version': registered_model.version\n",
        "                                }\n",
        "                        )\n",
        "\n",
        "print(\"AciWebservice deployment configuration created.\")"
      ]
    },
    {
      "cell_type": "markdown",
      "metadata": {
        "application/vnd.databricks.v1+cell": {
          "cellMetadata": {},
          "inputWidgets": {},
          "nuid": "e8d62006-29dc-4ada-9fcc-d2b674a3c406",
          "showTitle": false,
          "title": ""
        }
      },
      "source": [
        "### Deploy the model as a scoring webservice\n",
        "\n",
        "Please note that it can take **10-15 minutes** for the deployment to complete."
      ]
    },
    {
      "cell_type": "code",
      "execution_count": 0,
      "metadata": {
        "application/vnd.databricks.v1+cell": {
          "cellMetadata": {},
          "inputWidgets": {},
          "nuid": "692701ba-017b-4b8b-bd9c-c29fa05ba0f2",
          "showTitle": false,
          "title": ""
        }
      },
      "outputs": [
        {
          "output_type": "display_data",
          "data": {
            "text/html": [
              "<style scoped>\n",
              "  .ansiout {\n",
              "    display: block;\n",
              "    unicode-bidi: embed;\n",
              "    white-space: pre-wrap;\n",
              "    word-wrap: break-word;\n",
              "    word-break: break-all;\n",
              "    font-family: \"Source Code Pro\", \"Menlo\", monospace;;\n",
              "    font-size: 13px;\n",
              "    color: #555;\n",
              "    margin-left: 4px;\n",
              "    line-height: 19px;\n",
              "  }\n",
              "</style>"
            ]
          },
          "metadata": {
            "application/vnd.databricks.v1+output": {
              "arguments": {},
              "data": "",
              "errorSummary": "",
              "errorTraceType": null,
              "metadata": {},
              "type": "ipynbError"
            }
          },
          "output_type": "display_data"
        }
      ],
      "source": [
        "aci_service_name='nyc-taxi-service'\n",
        "\n",
        "service = Model.deploy(workspace=ws,\n",
        "                       name=aci_service_name,\n",
        "                       models=[registered_model],\n",
        "                       inference_config=inference_config,\n",
        "                       deployment_config= aci_config, \n",
        "                       overwrite=True)\n",
        "\n",
        "service.wait_for_deployment(show_output=True)\n",
        "print(service.state)"
      ]
    },
    {
      "cell_type": "markdown",
      "metadata": {
        "application/vnd.databricks.v1+cell": {
          "cellMetadata": {},
          "inputWidgets": {},
          "nuid": "f37b952d-2365-4c63-b6ae-b5ff40d63bc3",
          "showTitle": false,
          "title": ""
        }
      },
      "source": [
        "## Exercise 3: Consume the deployed service"
      ]
    },
    {
      "cell_type": "markdown",
      "metadata": {
        "application/vnd.databricks.v1+cell": {
          "cellMetadata": {},
          "inputWidgets": {},
          "nuid": "e68cdd7d-934a-4647-8314-cd01aff2f70d",
          "showTitle": false,
          "title": ""
        }
      },
      "source": [
        "**Review the webservice endpoint URL and API key**"
      ]
    },
    {
      "cell_type": "code",
      "execution_count": 0,
      "metadata": {
        "application/vnd.databricks.v1+cell": {
          "cellMetadata": {},
          "inputWidgets": {},
          "nuid": "119a20bc-47a6-4c8c-96e8-aa2d9c371715",
          "showTitle": false,
          "title": ""
        }
      },
      "outputs": [
        {
          "output_type": "display_data",
          "data": {
            "text/html": [
              "<style scoped>\n",
              "  .ansiout {\n",
              "    display: block;\n",
              "    unicode-bidi: embed;\n",
              "    white-space: pre-wrap;\n",
              "    word-wrap: break-word;\n",
              "    word-break: break-all;\n",
              "    font-family: \"Source Code Pro\", \"Menlo\", monospace;;\n",
              "    font-size: 13px;\n",
              "    color: #555;\n",
              "    margin-left: 4px;\n",
              "    line-height: 19px;\n",
              "  }\n",
              "</style>"
            ]
          },
          "metadata": {
            "application/vnd.databricks.v1+output": {
              "arguments": {},
              "data": "",
              "errorSummary": "",
              "errorTraceType": null,
              "metadata": {},
              "type": "ipynbError"
            }
          },
          "output_type": "display_data"
        }
      ],
      "source": [
        "api_key, _ = service.get_keys()\n",
        "print(\"Deployed ACI test Webservice: {} \\nWebservice Uri: {} \\nWebservice API Key: {}\".\n",
        "      format(service.name, service.scoring_uri, api_key))"
      ]
    },
    {
      "cell_type": "markdown",
      "metadata": {
        "application/vnd.databricks.v1+cell": {
          "cellMetadata": {},
          "inputWidgets": {},
          "nuid": "2fca6dfe-24aa-4cb8-8141-ca54bd949a5c",
          "showTitle": false,
          "title": ""
        }
      },
      "source": [
        "**Prepare test data**"
      ]
    },
    {
      "cell_type": "code",
      "execution_count": 0,
      "metadata": {
        "application/vnd.databricks.v1+cell": {
          "cellMetadata": {},
          "inputWidgets": {},
          "nuid": "ef0d07f8-c382-451b-a5c4-6a1071498dfe",
          "showTitle": false,
          "title": ""
        }
      },
      "outputs": [
        {
          "output_type": "display_data",
          "data": {
            "text/html": [
              "<style scoped>\n",
              "  .ansiout {\n",
              "    display: block;\n",
              "    unicode-bidi: embed;\n",
              "    white-space: pre-wrap;\n",
              "    word-wrap: break-word;\n",
              "    word-break: break-all;\n",
              "    font-family: \"Source Code Pro\", \"Menlo\", monospace;;\n",
              "    font-size: 13px;\n",
              "    color: #555;\n",
              "    margin-left: 4px;\n",
              "    line-height: 19px;\n",
              "  }\n",
              "</style>"
            ]
          },
          "metadata": {
            "application/vnd.databricks.v1+output": {
              "arguments": {},
              "data": "",
              "errorSummary": "",
              "errorTraceType": null,
              "metadata": {},
              "type": "ipynbError"
            }
          },
          "output_type": "display_data"
        }
      ],
      "source": [
        "#['passengerCount', 'tripDistance', 'hour_of_day', 'day_of_week', 'month_num', \n",
        "# 'normalizeHolidayName', 'isPaidTimeOff', 'snowDepth', 'precipTime', 'precipDepth', 'temperature']\n",
        "\n",
        "data1 = [2, 5, 9, 4, 5, 'Memorial Day', True, 0, 0.0, 0.0, 65]\n",
        "data2 = [[3, 10, 15, 4, 7, 'None', False, 0, 2.0, 1.0, 80], \n",
        "         [2, 5, 9, 4, 5, 'Memorial Day', True, 0, 0.0, 0.0, 65]]\n",
        "\n",
        "print(\"Test data prepared.\")"
      ]
    },
    {
      "cell_type": "markdown",
      "metadata": {
        "application/vnd.databricks.v1+cell": {
          "cellMetadata": {},
          "inputWidgets": {},
          "nuid": "fe76cbc6-4b07-42a7-8fd8-3a6b92ed761e",
          "showTitle": false,
          "title": ""
        }
      },
      "source": [
        "### Consume the deployed webservice over HTTP"
      ]
    },
    {
      "cell_type": "code",
      "execution_count": 0,
      "metadata": {
        "application/vnd.databricks.v1+cell": {
          "cellMetadata": {},
          "inputWidgets": {},
          "nuid": "2325d1c6-3c66-4430-817f-2082bd4e515c",
          "showTitle": false,
          "title": ""
        }
      },
      "outputs": [
        {
          "output_type": "display_data",
          "data": {
            "text/html": [
              "<style scoped>\n",
              "  .ansiout {\n",
              "    display: block;\n",
              "    unicode-bidi: embed;\n",
              "    white-space: pre-wrap;\n",
              "    word-wrap: break-word;\n",
              "    word-break: break-all;\n",
              "    font-family: \"Source Code Pro\", \"Menlo\", monospace;;\n",
              "    font-size: 13px;\n",
              "    color: #555;\n",
              "    margin-left: 4px;\n",
              "    line-height: 19px;\n",
              "  }\n",
              "</style>"
            ]
          },
          "metadata": {
            "application/vnd.databricks.v1+output": {
              "arguments": {},
              "data": "",
              "errorSummary": "",
              "errorTraceType": null,
              "metadata": {},
              "type": "ipynbError"
            }
          },
          "output_type": "display_data"
        }
      ],
      "source": [
        "import requests\n",
        "import json\n",
        "\n",
        "headers = {'Content-Type':'application/json', 'Authorization':('Bearer '+ api_key)}\n",
        "response = requests.post(service.scoring_uri, json.dumps(data1), headers=headers)\n",
        "print('Predictions for data1')\n",
        "print(response.text)\n",
        "print(\"\")\n",
        "response = requests.post(service.scoring_uri, json.dumps(data2), headers=headers)\n",
        "print('Predictions for data2')\n",
        "print(response.text)"
      ]
    },
    {
      "cell_type": "markdown",
      "metadata": {
        "application/vnd.databricks.v1+cell": {
          "cellMetadata": {},
          "inputWidgets": {},
          "nuid": "0d04379b-dbb3-4af3-962e-8f8d63c2348c",
          "showTitle": false,
          "title": ""
        }
      },
      "source": [
        "### Clean-up\n",
        "\n",
        "When you are done with the exercise, delete the deployed webservice by running the cell below."
      ]
    },
    {
      "cell_type": "code",
      "execution_count": 0,
      "metadata": {
        "application/vnd.databricks.v1+cell": {
          "cellMetadata": {},
          "inputWidgets": {},
          "nuid": "f5001b84-5e43-42db-9130-360265785e12",
          "showTitle": false,
          "title": ""
        }
      },
      "outputs": [
        {
          "output_type": "display_data",
          "data": {
            "text/html": [
              "<style scoped>\n",
              "  .ansiout {\n",
              "    display: block;\n",
              "    unicode-bidi: embed;\n",
              "    white-space: pre-wrap;\n",
              "    word-wrap: break-word;\n",
              "    word-break: break-all;\n",
              "    font-family: \"Source Code Pro\", \"Menlo\", monospace;;\n",
              "    font-size: 13px;\n",
              "    color: #555;\n",
              "    margin-left: 4px;\n",
              "    line-height: 19px;\n",
              "  }\n",
              "</style>"
            ]
          },
          "metadata": {
            "application/vnd.databricks.v1+output": {
              "arguments": {},
              "data": "",
              "errorSummary": "",
              "errorTraceType": null,
              "metadata": {},
              "type": "ipynbError"
            }
          },
          "output_type": "display_data"
        }
      ],
      "source": [
        "service.delete()\n",
        "print(\"Deployed webservice deleted.\")"
      ]
    }
  ],
  "metadata": {
    "application/vnd.databricks.v1+notebook": {
      "dashboards": [],
      "language": "python",
      "notebookMetadata": {
        "pythonIndentUnit": 2
      },
      "notebookName": "2.0 Deploying Models in Azure Machine Learning",
      "widgets": {}
    }
  },
  "nbformat": 4,
  "nbformat_minor": 0
}
