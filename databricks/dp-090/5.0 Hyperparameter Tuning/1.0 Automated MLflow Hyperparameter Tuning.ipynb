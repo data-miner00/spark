{
  "cells": [
    {
      "cell_type": "markdown",
      "metadata": {
        "application/vnd.databricks.v1+cell": {
          "cellMetadata": {},
          "inputWidgets": {},
          "nuid": "f62499ac-91d6-4d46-a696-f941a4b41d9a",
          "showTitle": false,
          "title": ""
        }
      },
      "source": [
        "# Automated MLflow Hyperparameter Tuning\n",
        "\n",
        "In this lab, you will learn to tune hyperparameters in Azure Databricks. This lab will cover the following exercise:\n",
        "- Exercise 1: Using Automated MLflow for hyperparameter tuning.\n",
        "\n",
        "To upload the necessary data, please follow the instructions in the lab guide."
      ]
    },
    {
      "cell_type": "markdown",
      "metadata": {
        "application/vnd.databricks.v1+cell": {
          "cellMetadata": {},
          "inputWidgets": {},
          "nuid": "ce772839-e83d-4b7b-b283-d789d38de5f9",
          "showTitle": false,
          "title": ""
        }
      },
      "source": [
        "## Attach notebook to your cluster\n",
        "Before executing any cells in the notebook, you need to attach it to your cluster. Make sure that the cluster is running.\n",
        "\n",
        "In the notebook's toolbar, select the drop down arrow next to Detached, and then select your cluster under Attach to.\n",
        "\n",
        "Make sure you run each cells in order."
      ]
    },
    {
      "cell_type": "markdown",
      "metadata": {
        "application/vnd.databricks.v1+cell": {
          "cellMetadata": {},
          "inputWidgets": {},
          "nuid": "4b3ba5c9-053f-49cf-b7ce-69c40826ead0",
          "showTitle": false,
          "title": ""
        }
      },
      "source": [
        "-sandbox\n",
        "## Exercise 1: Using Automated MLflow for hyperparameter tuning\n",
        "In this exercise, you will perform hyperparameter tuning by using the automated MLflow libary."
      ]
    },
    {
      "cell_type": "markdown",
      "metadata": {
        "application/vnd.databricks.v1+cell": {
          "cellMetadata": {},
          "inputWidgets": {},
          "nuid": "f3b56ddd-c0c1-4c26-8ce9-ca49b1f7195f",
          "showTitle": false,
          "title": ""
        }
      },
      "source": [
        "### Load the data\n",
        "In this exercise, you will be using a dataset of real estate sales transactions to predict the price-per-unit of a property based on its features. The price-per-unit in this data is based on a unit measurement of 3.3 square meters\n",
        "\n",
        "The data consists of the following variables:\n",
        "- **transaction_date** - the transaction date (for example, 2013.250=2013 March, 2013.500=2013 June, etc.)\n",
        "- **house_age** - the house age (in years)\n",
        "- **transit_distance** - the distance to the nearest light rail station (in meters)\n",
        "- **local_convenience_stores** - the number of convenience stores within walking distance\n",
        "- **latitude** - the geographic coordinate, latitude\n",
        "- **longitude** - the geographic coordinate, longitude\n",
        "- **price_per_unit** - house price of unit area (3.3 square meters) \n",
        "\n",
        "\n",
        "Run the following cell to load the table into a Spark dataframe and review the dataframe."
      ]
    },
    {
      "cell_type": "code",
      "execution_count": 0,
      "metadata": {
        "application/vnd.databricks.v1+cell": {
          "cellMetadata": {},
          "inputWidgets": {},
          "nuid": "e7550a64-4398-4fc1-8cfa-308e50350e68",
          "showTitle": false,
          "title": ""
        }
      },
      "outputs": [],
      "source": [
        "dataset = spark.sql(\"select * from real_estate\")\n",
        "display(dataset)"
      ]
    },
    {
      "cell_type": "markdown",
      "metadata": {
        "application/vnd.databricks.v1+cell": {
          "cellMetadata": {},
          "inputWidgets": {},
          "nuid": "cf5d9c42-a595-4737-b54a-407cd357798a",
          "showTitle": false,
          "title": ""
        }
      },
      "source": [
        "### Train a linear regression model\n",
        "Start by performing a train/test split on the housing dataset and building a pipeline for linear regression.\n",
        "\n",
        "In the cell below, a dataframe `housingDF` is created from the table you created before. The dataframe is then randomnly split into a training set that contains 80% of the data, and a test set that contains 20% of the original dataset. All columns except for the last one are then marked as features so that a Linear Regression model can be trained on the data."
      ]
    },
    {
      "cell_type": "code",
      "execution_count": 0,
      "metadata": {
        "application/vnd.databricks.v1+cell": {
          "cellMetadata": {},
          "inputWidgets": {},
          "nuid": "e362c5f4-2053-49bc-9224-3aa086056030",
          "showTitle": false,
          "title": ""
        }
      },
      "outputs": [],
      "source": [
        "from pyspark.ml import Pipeline\n",
        "from pyspark.ml.feature import VectorAssembler\n",
        "from pyspark.ml.regression import LinearRegression\n",
        "\n",
        "housingDF = dataset.dropna(subset=['price_per_unit'])\n",
        "\n",
        "trainDF, testDF = housingDF.randomSplit([0.8, 0.2], seed=42)\n",
        "\n",
        "assembler = VectorAssembler(inputCols=housingDF.columns[:-1], outputCol=\"features\")\n",
        "\n",
        "lr = (LinearRegression()\n",
        "  .setLabelCol(\"price_per_unit\")\n",
        "  .setFeaturesCol(\"features\")\n",
        ")\n",
        "\n",
        "pipeline = Pipeline(stages = [assembler, lr])"
      ]
    },
    {
      "cell_type": "markdown",
      "metadata": {
        "application/vnd.databricks.v1+cell": {
          "cellMetadata": {},
          "inputWidgets": {},
          "nuid": "f072af25-7056-4a62-86ac-8e99f9c46826",
          "showTitle": false,
          "title": ""
        }
      },
      "source": [
        "Take a look at the model parameters using the `.explainParams()` method."
      ]
    },
    {
      "cell_type": "code",
      "execution_count": 0,
      "metadata": {
        "application/vnd.databricks.v1+cell": {
          "cellMetadata": {},
          "inputWidgets": {},
          "nuid": "45dc95aa-310d-44db-9056-74257935f470",
          "showTitle": false,
          "title": ""
        }
      },
      "outputs": [],
      "source": [
        "print(lr.explainParams())"
      ]
    },
    {
      "cell_type": "markdown",
      "metadata": {
        "application/vnd.databricks.v1+cell": {
          "cellMetadata": {},
          "inputWidgets": {},
          "nuid": "3a179cd6-68ca-4eef-a86c-75821f3dd0c2",
          "showTitle": false,
          "title": ""
        }
      },
      "source": [
        "-sandbox\n",
        "`ParamGridBuilder()` allows us to string together all of the different possible hyperparameters we would like to test.  In this case, we can test the maximum number of iterations, whether we want to use an intercept with the y axis, and whether we want to standardize our features."
      ]
    },
    {
      "cell_type": "code",
      "execution_count": 0,
      "metadata": {
        "application/vnd.databricks.v1+cell": {
          "cellMetadata": {},
          "inputWidgets": {},
          "nuid": "9cffd2db-1b7d-408a-bdc8-f8a1d7de0d69",
          "showTitle": false,
          "title": ""
        }
      },
      "outputs": [],
      "source": [
        "from pyspark.ml.tuning import ParamGridBuilder\n",
        "\n",
        "paramGrid = (ParamGridBuilder()\n",
        "  .addGrid(lr.maxIter, [1, 10, 100])\n",
        "  .addGrid(lr.fitIntercept, [True, False])\n",
        "  .addGrid(lr.standardization, [True, False])\n",
        "  .build()\n",
        ")"
      ]
    },
    {
      "cell_type": "markdown",
      "metadata": {
        "application/vnd.databricks.v1+cell": {
          "cellMetadata": {},
          "inputWidgets": {},
          "nuid": "4786c880-2525-42d4-acab-096e53f263cf",
          "showTitle": false,
          "title": ""
        }
      },
      "source": [
        "Now `paramGrid` contains all of the combinations we will test in the next step.  Take a look at what it contains."
      ]
    },
    {
      "cell_type": "code",
      "execution_count": 0,
      "metadata": {
        "application/vnd.databricks.v1+cell": {
          "cellMetadata": {},
          "inputWidgets": {},
          "nuid": "456b1818-9890-4126-bcd2-9520da65e1ce",
          "showTitle": false,
          "title": ""
        }
      },
      "outputs": [],
      "source": [
        "paramGrid"
      ]
    },
    {
      "cell_type": "markdown",
      "metadata": {
        "application/vnd.databricks.v1+cell": {
          "cellMetadata": {},
          "inputWidgets": {},
          "nuid": "03aaa4b6-67c2-4540-b2e7-7e1498dc554e",
          "showTitle": false,
          "title": ""
        }
      },
      "source": [
        "-sandbox\n",
        "### Cross-Validation\n",
        "\n",
        "There are a number of different ways of conducting cross-validation, allowing us to trade off between computational expense and model performance.  An exhaustive approach to cross-validation would include every possible split of the training set.  More commonly, _k_-fold cross-validation is used where the training dataset is divided into _k_ smaller sets, or folds.  A model is then trained on _k_-1 folds of the training data and the last fold is used to evaluate its performance."
      ]
    },
    {
      "cell_type": "markdown",
      "metadata": {
        "application/vnd.databricks.v1+cell": {
          "cellMetadata": {},
          "inputWidgets": {},
          "nuid": "1611082c-b40b-4825-82a2-4f74304733a2",
          "showTitle": false,
          "title": ""
        }
      },
      "source": [
        "Create a `RegressionEvaluator()` to evaluate our grid search experiments and a `CrossValidator()` to build our models."
      ]
    },
    {
      "cell_type": "code",
      "execution_count": 0,
      "metadata": {
        "application/vnd.databricks.v1+cell": {
          "cellMetadata": {},
          "inputWidgets": {},
          "nuid": "379f705e-05ff-453f-96e1-b961c17ec218",
          "showTitle": false,
          "title": ""
        }
      },
      "outputs": [],
      "source": [
        "from pyspark.ml.evaluation import RegressionEvaluator\n",
        "from pyspark.ml.tuning import CrossValidator\n",
        "\n",
        "evaluator = RegressionEvaluator(\n",
        "  labelCol = \"price_per_unit\", \n",
        "  predictionCol = \"prediction\"\n",
        ")\n",
        "\n",
        "cv = CrossValidator(\n",
        "  estimator = pipeline,             # Estimator (individual model or pipeline)\n",
        "  estimatorParamMaps = paramGrid,   # Grid of parameters to try (grid search)\n",
        "  evaluator=evaluator,              # Evaluator\n",
        "  numFolds = 3,                     # Set k to 3\n",
        "  seed = 42                         # Seed to make sure our results are the same if ran again\n",
        ")"
      ]
    },
    {
      "cell_type": "markdown",
      "metadata": {
        "application/vnd.databricks.v1+cell": {
          "cellMetadata": {},
          "inputWidgets": {},
          "nuid": "5bf09a78-3336-4523-afde-0a2df462e6e2",
          "showTitle": false,
          "title": ""
        }
      },
      "source": [
        "-sandbox\n",
        "Fit the `CrossValidator()`\n",
        "\n",
        "<img alt=\"Side Note\" title=\"Side Note\" style=\"vertical-align: text-bottom; position: relative; height:1.75em; top:0.05em; transform:rotate(15deg)\" src=\"https://files.training.databricks.com/static/images/icon-note.webp\"/> This will train a large number of models.  If your cluster size is too small, it could take a while."
      ]
    },
    {
      "cell_type": "code",
      "execution_count": 0,
      "metadata": {
        "application/vnd.databricks.v1+cell": {
          "cellMetadata": {},
          "inputWidgets": {},
          "nuid": "3a093ee8-620a-4986-a6b3-545bde0c6741",
          "showTitle": false,
          "title": ""
        }
      },
      "outputs": [],
      "source": [
        "cvModel = cv.fit(trainDF)"
      ]
    },
    {
      "cell_type": "markdown",
      "metadata": {
        "application/vnd.databricks.v1+cell": {
          "cellMetadata": {},
          "inputWidgets": {},
          "nuid": "94983fa0-d4c3-45be-a33f-dd4ed22102a7",
          "showTitle": false,
          "title": ""
        }
      },
      "source": [
        "Take a look at the scores from the different experiments."
      ]
    },
    {
      "cell_type": "code",
      "execution_count": 0,
      "metadata": {
        "application/vnd.databricks.v1+cell": {
          "cellMetadata": {},
          "inputWidgets": {},
          "nuid": "34999dc7-23df-43a7-9897-f2d9df058680",
          "showTitle": false,
          "title": ""
        }
      },
      "outputs": [],
      "source": [
        "for params, score in zip(cvModel.getEstimatorParamMaps(), cvModel.avgMetrics):\n",
        "  print(\"\".join([param.name+\"\\t\"+str(params[param])+\"\\t\" for param in params]))\n",
        "  print(\"\\tScore: {}\".format(score))"
      ]
    },
    {
      "cell_type": "markdown",
      "metadata": {
        "application/vnd.databricks.v1+cell": {
          "cellMetadata": {},
          "inputWidgets": {},
          "nuid": "0f9e305e-332e-4d86-a8a3-144e2d2c0b5f",
          "showTitle": false,
          "title": ""
        }
      },
      "source": [
        "You can then access the best model using the `.bestModel` attribute."
      ]
    },
    {
      "cell_type": "code",
      "execution_count": 0,
      "metadata": {
        "application/vnd.databricks.v1+cell": {
          "cellMetadata": {},
          "inputWidgets": {},
          "nuid": "8949f76c-2333-4dac-bb29-8362eaf28ae8",
          "showTitle": false,
          "title": ""
        }
      },
      "outputs": [],
      "source": [
        "bestModel = cvModel.bestModel"
      ]
    },
    {
      "cell_type": "markdown",
      "metadata": {
        "application/vnd.databricks.v1+cell": {
          "cellMetadata": {},
          "inputWidgets": {},
          "nuid": "fc418db5-4300-441a-b01d-2280e0e6a660",
          "showTitle": false,
          "title": ""
        }
      },
      "source": [
        "To see the predictions of the best model on the test dataset, execute the code below:"
      ]
    },
    {
      "cell_type": "code",
      "execution_count": 0,
      "metadata": {
        "application/vnd.databricks.v1+cell": {
          "cellMetadata": {},
          "inputWidgets": {},
          "nuid": "fed22697-6ed8-4557-9781-64027ca23819",
          "showTitle": false,
          "title": ""
        }
      },
      "outputs": [],
      "source": [
        "predictions = cvModel.bestModel.transform(testDF)\n",
        "display(predictions)"
      ]
    }
  ],
  "metadata": {
    "application/vnd.databricks.v1+notebook": {
      "dashboards": [],
      "language": "python",
      "notebookMetadata": {
        "pythonIndentUnit": 2
      },
      "notebookName": "1.0 Automated MLflow Hyperparameter Tuning",
      "widgets": {}
    }
  },
  "nbformat": 4,
  "nbformat_minor": 0
}
